{
 "nbformat": 4,
 "nbformat_minor": 5,
 "metadata": {
  "kernelspec": {
   "display_name": "Python 3",
   "language": "python",
   "name": "python3"
  },
  "language_info": {
   "codemirror_mode": {
    "name": "ipython",
    "version": 3
   },
   "file_extension": ".py",
   "mimetype": "text/x-python",
   "name": "python",
   "nbconvert_exporter": "python",
   "pygments_lexer": "ipython3",
   "version": "3.6.4"
  },
  "colab": {
   "name": "Iris.ipynb",
   "provenance": [],
   "collapsed_sections": []
  }
 },
 "cells": [
  {
   "cell_type": "markdown",
   "metadata": {
    "id": "sf-D3xAUxT0Y",
    "pycharm": {
     "name": "#%% md\n"
    }
   },
   "source": [
    "\n",
    "\n",
    "\n",
    "Bảng dữ liệu bao gồm các trường như sau:\n",
    "\n",
    "1. Id: chỉ số đếm của từng mẫu\n",
    "2. SepalLengthCm: độ dài của đài hoa\n",
    "3. SepalWidthCm: độ rộng của đài hoa\n",
    "4. PetalLengthCm: độ dài cách hoa\n",
    "5. PetalWidthCm: độ rộng của cánh hoa\n",
    "6. Species: phân loại của từng loài hoa lan\n",
    "\n",
    "# Target\n",
    "Phân loại cho từng loài hoa lan (setosa, virginica, versicolor) dựa theo các đặc trưng(dữ liệu) cho trước."
   ],
   "id": "sf-D3xAUxT0Y"
  },
  {
   "cell_type": "markdown",
   "metadata": {
    "id": "tT2MNOAPxT0d",
    "pycharm": {
     "name": "#%% md\n"
    }
   },
   "source": [
    "# Overview"
   ],
   "id": "tT2MNOAPxT0d"
  },
  {
   "cell_type": "markdown",
   "metadata": {
    "id": "7usA9SkCgFT5",
    "pycharm": {
     "name": "#%% md\n"
    }
   },
   "source": [],
   "id": "7usA9SkCgFT5"
  },
  {
   "cell_type": "code",
   "metadata": {
    "id": "ylzY_6F3xT0e",
    "pycharm": {
     "name": "#%%\n"
    }
   },
   "source": [
    "# Gọi các thư viện cần thiết cho bài toán\n",
    "import numpy as np\n",
    "import matplotlib.pyplot as plt\n",
    "import plotly.express as px\n",
    "import pandas as pd\n",
    "import plotly.graph_objs as go\n",
    "import seaborn as sns"
   ],
   "id": "ylzY_6F3xT0e",
   "execution_count": null,
   "outputs": []
  },
  {
   "cell_type": "code",
   "metadata": {
    "id": "8fqBEMMtxT0f",
    "pycharm": {
     "name": "#%%\n"
    }
   },
   "source": [
    "# gọi đường dẫn vào file dữ liệu + xem các dữ liệu đầu\n",
    "data_path = '/Dataset/iris.csv'\n",
    "data = pd.read_csv(data_path)\n",
    "data.head()"
   ],
   "id": "8fqBEMMtxT0f",
   "execution_count": null,
   "outputs": []
  },
  {
   "cell_type": "code",
   "metadata": {
    "id": "bnCIzDRdxT0g",
    "pycharm": {
     "name": "#%%\n"
    }
   },
   "source": [
    "# Bắt đầu tìm hiểu về các trường dữ liệu\n",
    "data.info(verbose=True)"
   ],
   "id": "bnCIzDRdxT0g",
   "execution_count": null,
   "outputs": []
  },
  {
   "cell_type": "code",
   "metadata": {
    "id": "SOqOxnX4xT0h",
    "pycharm": {
     "name": "#%%\n"
    }
   },
   "source": [
    "# Tìm hiểu các giá trị của từng trường\n",
    "data.nunique()"
   ],
   "id": "SOqOxnX4xT0h",
   "execution_count": null,
   "outputs": []
  },
  {
   "cell_type": "code",
   "metadata": {
    "id": "VBefMDBcxT0h",
    "pycharm": {
     "name": "#%%\n"
    }
   },
   "source": [
    "# Tìm hiểu về các giá trị của từng trường dữ liệu là số\n",
    "data.describe()"
   ],
   "id": "VBefMDBcxT0h",
   "execution_count": null,
   "outputs": []
  },
  {
   "cell_type": "code",
   "metadata": {
    "id": "DeXGHY-RxT0i",
    "pycharm": {
     "name": "#%%\n"
    }
   },
   "source": [
    "# Xem số lượng dữ liệu trống (null)\n",
    "null_info = pd.DataFrame({'Null count': data.isnull().sum(), 'Null ratio': data.isnull().sum()/len(data)})\n",
    "null_info.drop('Species', inplace=True)\n",
    "null_info.sort_values(by='Null ratio', ascending=False, inplace=True)\n",
    "null_info"
   ],
   "id": "DeXGHY-RxT0i",
   "execution_count": null,
   "outputs": []
  },
  {
   "cell_type": "code",
   "metadata": {
    "id": "83NnZxjJxT0j",
    "pycharm": {
     "name": "#%%\n"
    }
   },
   "source": [
    "# vẽ biểu diễn null\n",
    "import missingno as msno\n",
    "\n",
    "msno.matrix(data);"
   ],
   "id": "83NnZxjJxT0j",
   "execution_count": null,
   "outputs": []
  },
  {
   "cell_type": "code",
   "metadata": {
    "id": "e1Yk0WhLxT0j",
    "pycharm": {
     "name": "#%%\n"
    }
   },
   "source": [
    "# Xem tỉ só giữa các loài hoa\n",
    "print('% Setosa:', format((data.Species=='Iris-setosa').sum() / len(data) * 100,'.2f'))\n",
    "print('% Vesicolor:', format((data.Species=='Iris-versicolor').sum() / len(data) * 100,'.2f'))\n",
    "print('% Virginica:', format((data.Species=='Iris-virginica').sum() / len(data) * 100,'.2f'))"
   ],
   "id": "e1Yk0WhLxT0j",
   "execution_count": null,
   "outputs": []
  },
  {
   "cell_type": "markdown",
   "metadata": {
    "id": "_NnpAYSOxT0k",
    "pycharm": {
     "name": "#%% md\n"
    }
   },
   "source": [
    "# Visualization "
   ],
   "id": "_NnpAYSOxT0k"
  },
  {
   "cell_type": "code",
   "metadata": {
    "id": "z526qbtgxT0k",
    "pycharm": {
     "name": "#%%\n"
    }
   },
   "source": [
    "# Copy 1 bản nháp của data để vẽ và thay đổi dữ liệu\n",
    "data1 = data.copy()\n",
    "data1.head()"
   ],
   "id": "z526qbtgxT0k",
   "execution_count": null,
   "outputs": []
  },
  {
   "cell_type": "markdown",
   "metadata": {
    "id": "KRzo4SBCxT0l",
    "pycharm": {
     "name": "#%% md\n"
    }
   },
   "source": [
    "## SepalLengthCm"
   ],
   "id": "KRzo4SBCxT0l"
  },
  {
   "cell_type": "code",
   "metadata": {
    "scrolled": true,
    "id": "dHAUTk7JxT0l",
    "pycharm": {
     "name": "#%%\n"
    }
   },
   "source": [
    "data1['SepalLengthCm'].value_counts(dropna=False)"
   ],
   "id": "dHAUTk7JxT0l",
   "execution_count": null,
   "outputs": []
  },
  {
   "cell_type": "code",
   "metadata": {
    "id": "5AZpNKQBxT0l",
    "pycharm": {
     "name": "#%%\n"
    }
   },
   "source": [
    "plt.figure(figsize=(13,6))\n",
    "plt.subplot(1,2,1)\n",
    "sns.histplot(data1.SepalLengthCm, bins=10, kde=True)\n",
    "plt.title('Histplot diagram for SepalLengthCm')\n",
    "plt.subplot(1,2,2)\n",
    "sns.boxplot(x=\"Species\", y=\"SepalLengthCm\", data=data1)\n",
    "sns.stripplot(x='Species',y='SepalLengthCm',data=data1,jitter=True,edgecolor='gray')\n",
    "plt.title('Boxplot for SepalLengthCm')"
   ],
   "id": "5AZpNKQBxT0l",
   "execution_count": null,
   "outputs": []
  },
  {
   "cell_type": "markdown",
   "metadata": {
    "id": "ypwkHWWxxT0m",
    "pycharm": {
     "name": "#%% md\n"
    }
   },
   "source": [
    "## SepalWidthCm"
   ],
   "id": "ypwkHWWxxT0m"
  },
  {
   "cell_type": "code",
   "metadata": {
    "scrolled": true,
    "id": "Gx-IeoxTxT0m",
    "pycharm": {
     "name": "#%%\n"
    }
   },
   "source": [
    "data1['SepalWidthCm'].value_counts(dropna=False)"
   ],
   "id": "Gx-IeoxTxT0m",
   "execution_count": null,
   "outputs": []
  },
  {
   "cell_type": "code",
   "metadata": {
    "id": "H410TlhaxT0m",
    "pycharm": {
     "name": "#%%\n"
    }
   },
   "source": [
    "plt.figure(figsize=(13,6))\n",
    "plt.subplot(1,2,1)\n",
    "sns.histplot(data1.SepalWidthCm, bins=5, kde=True)\n",
    "plt.title('Histplot diagram for SepalWidthCm')\n",
    "plt.subplot(1,2,2)\n",
    "sns.violinplot(x=\"Species\", y=\"SepalWidthCm\", data=data1, size=6)\n",
    "sns.stripplot(x='Species',y='SepalWidthCm',data=data1,jitter=True,edgecolor='gray')\n",
    "plt.title('Boxplot for SepalWidthCm')"
   ],
   "id": "H410TlhaxT0m",
   "execution_count": null,
   "outputs": []
  },
  {
   "cell_type": "markdown",
   "metadata": {
    "id": "j_Dn1ZaYxT0n",
    "pycharm": {
     "name": "#%% md\n"
    }
   },
   "source": [
    "## PetalLengthCm"
   ],
   "id": "j_Dn1ZaYxT0n"
  },
  {
   "cell_type": "code",
   "metadata": {
    "scrolled": true,
    "id": "0eEP793nxT0n",
    "pycharm": {
     "name": "#%%\n"
    }
   },
   "source": [
    "data1['PetalLengthCm'].value_counts(dropna=False)"
   ],
   "id": "0eEP793nxT0n",
   "execution_count": null,
   "outputs": []
  },
  {
   "cell_type": "code",
   "metadata": {
    "id": "_QglDf1jxT0n",
    "pycharm": {
     "name": "#%%\n"
    }
   },
   "source": [
    "plt.figure(figsize=(13,6))\n",
    "plt.subplot(1,2,1)\n",
    "sns.histplot(data1.PetalLengthCm, bins=10, kde=True)\n",
    "plt.title('Histplot diagram for PetalLengthCm')\n",
    "plt.subplot(1,2,2)\n",
    "sns.boxplot(x=\"Species\", y=\"SepalLengthCm\", data=data1)\n",
    "plt.title('Boxplot for PetalLengthCm')"
   ],
   "id": "_QglDf1jxT0n",
   "execution_count": null,
   "outputs": []
  },
  {
   "cell_type": "markdown",
   "metadata": {
    "id": "Su8XCYo6xT0n",
    "pycharm": {
     "name": "#%% md\n"
    }
   },
   "source": [
    "## PetalWidthCm"
   ],
   "id": "Su8XCYo6xT0n"
  },
  {
   "cell_type": "code",
   "metadata": {
    "scrolled": true,
    "id": "oB3pbcPGxT0n",
    "pycharm": {
     "name": "#%%\n"
    }
   },
   "source": [
    "data1['PetalWidthCm'].value_counts(dropna=False)"
   ],
   "id": "oB3pbcPGxT0n",
   "execution_count": null,
   "outputs": []
  },
  {
   "cell_type": "code",
   "metadata": {
    "id": "HIuPMoUPxT0o",
    "pycharm": {
     "name": "#%%\n"
    }
   },
   "source": [
    "plt.figure(figsize=(13,6))\n",
    "plt.subplot(1,2,1)\n",
    "sns.histplot(data1.PetalWidthCm, bins=5, kde=True)\n",
    "plt.title('Histplot diagram for PetalWidthCm')\n",
    "plt.subplot(1,2,2)\n",
    "sns.violinplot(x=\"Species\", y=\"PetalWidthCm\", data=data1, size=6)\n",
    "# sns.stripplot(x='Species',y='PetalWidthCm',data=data1,jitter=True,edgecolor='gray')\n",
    "plt.title('Boxplot for PetalWidthCm')"
   ],
   "id": "HIuPMoUPxT0o",
   "execution_count": null,
   "outputs": []
  },
  {
   "cell_type": "markdown",
   "metadata": {
    "id": "RdS4sYjwxT0o",
    "pycharm": {
     "name": "#%% md\n"
    }
   },
   "source": [
    "# Relationship"
   ],
   "id": "RdS4sYjwxT0o"
  },
  {
   "cell_type": "code",
   "metadata": {
    "id": "pwlFbDZUxT0o",
    "pycharm": {
     "name": "#%%\n"
    }
   },
   "source": [
    "sns.jointplot(x=\"SepalLengthCm\", y=\"SepalWidthCm\", data=data1, size=5, hue=\"Species\")\n",
    "plt.title('Relationship between SepalWidthCm and SepalLengthCm')"
   ],
   "id": "pwlFbDZUxT0o",
   "execution_count": null,
   "outputs": []
  },
  {
   "cell_type": "code",
   "metadata": {
    "id": "GBAMDCGpxT0o",
    "pycharm": {
     "name": "#%%\n"
    }
   },
   "source": [
    "sns.set_style('whitegrid')\n",
    "sns.lmplot(x='SepalLengthCm', y='SepalWidthCm', data=data1, hue=\"Species\", markers=['o', 'v', 'x'])\n",
    "plt.title('Regression between SepalLengthCm and SepalWidthCm')"
   ],
   "id": "GBAMDCGpxT0o",
   "execution_count": null,
   "outputs": []
  },
  {
   "cell_type": "code",
   "metadata": {
    "id": "7HXBc90LxT0p",
    "pycharm": {
     "name": "#%%\n"
    }
   },
   "source": [
    "sns.jointplot(x=\"PetalLengthCm\", y=\"PetalWidthCm\", data=data1, size=5, hue=\"Species\")\n",
    "plt.title('Relationship between PetalWidthCm and PetalLengthCm')"
   ],
   "id": "7HXBc90LxT0p",
   "execution_count": null,
   "outputs": []
  },
  {
   "cell_type": "code",
   "metadata": {
    "id": "7eIJ0dAwxT0p",
    "pycharm": {
     "name": "#%%\n"
    }
   },
   "source": [
    "sns.set_style('whitegrid')\n",
    "sns.lmplot(x='PetalLengthCm', y='PetalWidthCm', data=data1, hue=\"Species\", markers=['o', 'v', 'x'])\n",
    "plt.title('Regression between PetalLengthCm and PetalWidthCm')"
   ],
   "id": "7eIJ0dAwxT0p",
   "execution_count": null,
   "outputs": []
  },
  {
   "cell_type": "code",
   "metadata": {
    "id": "S5HXMGp_xT0p",
    "pycharm": {
     "name": "#%%\n"
    }
   },
   "source": [
    "plt.figure(figsize=(20,15))\n",
    "plt.subplot(2,2,1)\n",
    "sns.barplot(x = 'Species', y = 'SepalLengthCm', data = data1, palette=\"cubehelix\")\n",
    "plt.subplot(2,2,2)\n",
    "sns.barplot(x = 'Species', y = 'SepalWidthCm', data = data1, palette=\"Oranges\")\n",
    "plt.subplot(2,2,3)\n",
    "sns.barplot(x = 'Species', y = 'PetalLengthCm', data = data1, palette=\"Oranges\")\n",
    "plt.subplot(2,2,4)\n",
    "sns.barplot(x = 'Species', y = 'PetalWidthCm', data = data1, palette=\"cubehelix\")"
   ],
   "id": "S5HXMGp_xT0p",
   "execution_count": null,
   "outputs": []
  },
  {
   "cell_type": "code",
   "metadata": {
    "id": "hsBpSACpxT0q",
    "pycharm": {
     "name": "#%%\n"
    }
   },
   "source": [
    "plt.figure(figsize=(12,8)) \n",
    "sns.heatmap(data1.corr(), annot=True, cmap='Dark2_r', linewidths = 2)\n",
    "plt.show()"
   ],
   "id": "hsBpSACpxT0q",
   "execution_count": null,
   "outputs": []
  },
  {
   "cell_type": "markdown",
   "metadata": {
    "id": "y-4V1e-8xT0q",
    "pycharm": {
     "name": "#%% md\n"
    }
   },
   "source": [
    "# Summarize"
   ],
   "id": "y-4V1e-8xT0q"
  },
  {
   "cell_type": "code",
   "metadata": {
    "id": "eTutG8MJxT0q",
    "pycharm": {
     "name": "#%%\n"
    }
   },
   "source": [
    "# biểu đồ so sánh quan hệ giữa các cặp thuộc tính\n",
    "sns.pairplot(data=data1,kind='scatter')"
   ],
   "id": "eTutG8MJxT0q",
   "execution_count": null,
   "outputs": []
  },
  {
   "cell_type": "code",
   "metadata": {
    "id": "CXf6UnBWxT0q",
    "pycharm": {
     "name": "#%%\n"
    }
   },
   "source": [
    "# biểu đồ so sánh quan hệ giữa các cặp thuộc tính phân chia theo loài hoa\n",
    "sns.pairplot(data=data1,hue='Species');"
   ],
   "id": "CXf6UnBWxT0q",
   "execution_count": null,
   "outputs": []
  },
  {
   "cell_type": "markdown",
   "metadata": {
    "id": "-bIk50v6xT0r",
    "pycharm": {
     "name": "#%% md\n"
    }
   },
   "source": [
    "# Applied Algorithms"
   ],
   "id": "-bIk50v6xT0r"
  },
  {
   "cell_type": "code",
   "metadata": {
    "id": "Bo2afudkxT0s",
    "pycharm": {
     "name": "#%%\n"
    }
   },
   "source": [
    "#Metrics\n",
    "from sklearn.metrics import make_scorer, accuracy_score,precision_score\n",
    "from sklearn.metrics import classification_report\n",
    "from sklearn.metrics import confusion_matrix\n",
    "from sklearn.metrics import accuracy_score ,precision_score,recall_score,f1_score"
   ],
   "id": "Bo2afudkxT0s",
   "execution_count": null,
   "outputs": []
  },
  {
   "cell_type": "code",
   "metadata": {
    "id": "fIQ0kzEuxT0s",
    "pycharm": {
     "name": "#%%\n"
    }
   },
   "source": [
    "#Model Selection\n",
    "from sklearn.model_selection import KFold,train_test_split,cross_val_score\n",
    "from sklearn.ensemble import RandomForestClassifier\n",
    "from sklearn.model_selection import train_test_split\n",
    "from sklearn.linear_model import  LogisticRegression\n",
    "from sklearn.ensemble import RandomForestClassifier\n",
    "from sklearn import linear_model\n",
    "from sklearn.linear_model import SGDClassifier\n",
    "from sklearn.tree import DecisionTreeClassifier\n",
    "from sklearn.neighbors import KNeighborsClassifier\n",
    "from sklearn.svm import SVC, LinearSVC\n",
    "from sklearn.naive_bayes import GaussianNB\n",
    "from sklearn.neural_network import MLPClassifier"
   ],
   "id": "fIQ0kzEuxT0s",
   "execution_count": null,
   "outputs": []
  },
  {
   "cell_type": "code",
   "metadata": {
    "id": "YTZ8_b2rxT0s",
    "pycharm": {
     "name": "#%%\n"
    }
   },
   "source": [
    "data.drop(columns=\"Id\",inplace=True)"
   ],
   "id": "YTZ8_b2rxT0s",
   "execution_count": null,
   "outputs": []
  },
  {
   "cell_type": "code",
   "metadata": {
    "id": "HXWa-d9mxT0s",
    "pycharm": {
     "name": "#%%\n"
    }
   },
   "source": [
    "# chia tách đặc trưng và nhãn\n",
    "X=data.iloc[:,0:4].values\n",
    "y=data.iloc[:,4].values"
   ],
   "id": "HXWa-d9mxT0s",
   "execution_count": null,
   "outputs": []
  },
  {
   "cell_type": "code",
   "metadata": {
    "id": "hCi6cqKgxT0s",
    "pycharm": {
     "name": "#%%\n"
    }
   },
   "source": [
    "# Mã hóa nhãn\n",
    "from sklearn.preprocessing import LabelEncoder\n",
    "le = LabelEncoder()\n",
    "y = le.fit_transform(y)"
   ],
   "id": "hCi6cqKgxT0s",
   "execution_count": null,
   "outputs": []
  },
  {
   "cell_type": "code",
   "metadata": {
    "id": "1_zMveifxT0t",
    "pycharm": {
     "name": "#%%\n"
    }
   },
   "source": [
    "# chia dữ liệu train và test\n",
    "X_train,X_test,y_train,y_test=train_test_split(X,y,test_size=0.3,random_state=0)"
   ],
   "id": "1_zMveifxT0t",
   "execution_count": null,
   "outputs": []
  },
  {
   "cell_type": "markdown",
   "metadata": {
    "id": "6wqPIGMmxT0t",
    "pycharm": {
     "name": "#%% md\n"
    }
   },
   "source": [
    "## Naive Bayes"
   ],
   "id": "6wqPIGMmxT0t"
  },
  {
   "cell_type": "code",
   "metadata": {
    "id": "09vfTbJpxT0t",
    "pycharm": {
     "name": "#%%\n"
    }
   },
   "source": [
    "gaussian = GaussianNB()\n",
    "gaussian.fit(X_train, y_train)\n",
    "Y_pred = gaussian.predict(X_test) \n",
    "accuracy_nb=round(accuracy_score(y_test,Y_pred)* 100, 2)\n",
    "acc_gaussian = round(gaussian.score(X_train, y_train) * 100, 2)\n",
    "\n",
    "cm = confusion_matrix(y_test, Y_pred)\n",
    "accuracy = accuracy_score(y_test,Y_pred)\n",
    "precision =precision_score(y_test, Y_pred,average='micro')\n",
    "recall =  recall_score(y_test, Y_pred,average='micro')\n",
    "f1 = f1_score(y_test,Y_pred,average='micro')\n",
    "print('Confusion matrix for Naive Bayes\\n',cm)\n",
    "print('accuracy_Naive Bayes: %.3f' %accuracy)\n",
    "print('precision_Naive Bayes: %.3f' %precision)\n",
    "print('recall_Naive Bayes: %.3f' %recall)\n",
    "print('f1-score_Naive Bayes : %.3f' %f1)"
   ],
   "id": "09vfTbJpxT0t",
   "execution_count": null,
   "outputs": []
  },
  {
   "cell_type": "markdown",
   "metadata": {
    "id": "3VIO33G9xT0t",
    "pycharm": {
     "name": "#%% md\n"
    }
   },
   "source": [
    "## Decison Tree"
   ],
   "id": "3VIO33G9xT0t"
  },
  {
   "cell_type": "code",
   "metadata": {
    "id": "D9hylZWVxT0t",
    "pycharm": {
     "name": "#%%\n"
    }
   },
   "source": [
    "decision_tree = DecisionTreeClassifier() \n",
    "decision_tree.fit(X_train, y_train)  \n",
    "Y_pred = decision_tree.predict(X_test) \n",
    "accuracy_dt=round(accuracy_score(y_test,Y_pred)* 100, 2)\n",
    "acc_decision_tree = round(decision_tree.score(X_train, y_train) * 100, 2)\n",
    "\n",
    "cm = confusion_matrix(y_test, Y_pred)\n",
    "accuracy = accuracy_score(y_test,Y_pred)\n",
    "precision =precision_score(y_test, Y_pred,average='micro')\n",
    "recall =  recall_score(y_test, Y_pred,average='micro')\n",
    "f1 = f1_score(y_test,Y_pred,average='micro')\n",
    "print('Confusion matrix for DecisionTree\\n',cm)\n",
    "print('accuracy_DecisionTree: %.3f' %accuracy)\n",
    "print('precision_DecisionTree: %.3f' %precision)\n",
    "print('recall_DecisionTree: %.3f' %recall)\n",
    "print('f1-score_DecisionTree : %.3f' %f1)"
   ],
   "id": "D9hylZWVxT0t",
   "execution_count": null,
   "outputs": []
  },
  {
   "cell_type": "code",
   "metadata": {
    "id": "W7R_NrSOxT0t",
    "pycharm": {
     "name": "#%%\n"
    }
   },
   "source": [
    "from sklearn.tree import plot_tree\n",
    "plt.figure(figsize = (15,10))\n",
    "plot_tree(decision_tree.fit(X_train, y_train)  ,filled=True)\n",
    "plt.show()"
   ],
   "id": "W7R_NrSOxT0t",
   "execution_count": null,
   "outputs": []
  },
  {
   "cell_type": "markdown",
   "metadata": {
    "id": "OuKFNS4dxT0u",
    "pycharm": {
     "name": "#%% md\n"
    }
   },
   "source": [
    "## Random Forest"
   ],
   "id": "OuKFNS4dxT0u"
  },
  {
   "cell_type": "code",
   "metadata": {
    "id": "gfrUvTklxT0u",
    "pycharm": {
     "name": "#%%\n"
    }
   },
   "source": [
    "random_forest = RandomForestClassifier(n_estimators=100)\n",
    "random_forest.fit(X_train, y_train)\n",
    "Y_prediction = random_forest.predict(X_test)\n",
    "accuracy_rf=round(accuracy_score(y_test,Y_prediction)* 100, 2)\n",
    "acc_random_forest = round(random_forest.score(X_train, y_train) * 100, 2)\n",
    "\n",
    "\n",
    "cm = confusion_matrix(y_test, Y_prediction)\n",
    "accuracy = accuracy_score(y_test,Y_prediction)\n",
    "precision =precision_score(y_test, Y_prediction,average='micro')\n",
    "recall =  recall_score(y_test, Y_prediction,average='micro')\n",
    "f1 = f1_score(y_test,Y_prediction,average='micro')\n",
    "print('Confusion matrix for Random Forest\\n',cm)\n",
    "print('accuracy_random_Forest : %.3f' %accuracy)\n",
    "print('precision_random_Forest : %.3f' %precision)\n",
    "print('recall_random_Forest : %.3f' %recall)\n",
    "print('f1-score_random_Forest : %.3f' %f1)"
   ],
   "id": "gfrUvTklxT0u",
   "execution_count": null,
   "outputs": []
  },
  {
   "cell_type": "markdown",
   "metadata": {
    "id": "2eMczUq1xT0u",
    "pycharm": {
     "name": "#%% md\n"
    }
   },
   "source": [
    "## KNN"
   ],
   "id": "2eMczUq1xT0u"
  },
  {
   "cell_type": "code",
   "metadata": {
    "id": "WUrTGvKCxT0u",
    "pycharm": {
     "name": "#%%\n"
    }
   },
   "source": [
    "knn = KNeighborsClassifier(n_neighbors = 3)\n",
    "knn.fit(X_train, y_train)\n",
    "Y_pred = knn.predict(X_test) \n",
    "accuracy_knn=round(accuracy_score(y_test,Y_pred)* 100, 2)\n",
    "acc_knn = round(knn.score(X_train, y_train) * 100, 2)\n",
    "\n",
    "cm = confusion_matrix(y_test, Y_pred)\n",
    "accuracy = accuracy_score(y_test,Y_pred)\n",
    "precision =precision_score(y_test, Y_pred,average='micro')\n",
    "recall =  recall_score(y_test, Y_pred,average='micro')\n",
    "f1 = f1_score(y_test,Y_pred,average='micro')\n",
    "print('Confusion matrix for KNN\\n',cm)\n",
    "print('accuracy_KNN : %.3f' %accuracy)\n",
    "print('precision_KNN : %.3f' %precision)\n",
    "print('recall_KNN: %.3f' %recall)\n",
    "print('f1-score_KNN : %.3f' %f1)"
   ],
   "id": "WUrTGvKCxT0u",
   "execution_count": null,
   "outputs": []
  },
  {
   "cell_type": "code",
   "metadata": {
    "id": "wjuiVjyXxT0u",
    "pycharm": {
     "name": "#%%\n"
    }
   },
   "source": [
    "# Với nhiều giá trị của n\n",
    "plt.subplots(figsize=(20,5))\n",
    "a_index=list(range(1,50))\n",
    "a=pd.Series()\n",
    "x=range(1,50)\n",
    "#x=[1,2,3,4,5,6,7,8,9,10]\n",
    "for i in list(range(1,50)):\n",
    "    model=KNeighborsClassifier(n_neighbors=i) \n",
    "    model.fit(X_train, y_train) \n",
    "    prediction=model.predict(X_test)\n",
    "    a=a.append(pd.Series(accuracy_score(y_test,prediction)))\n",
    "plt.plot(a_index, a,marker=\"*\")\n",
    "plt.xticks(x)\n",
    "plt.show()"
   ],
   "id": "wjuiVjyXxT0u",
   "execution_count": null,
   "outputs": []
  },
  {
   "cell_type": "markdown",
   "metadata": {
    "id": "393p8HMhxT0v",
    "pycharm": {
     "name": "#%% md\n"
    }
   },
   "source": [
    "## MLP"
   ],
   "id": "393p8HMhxT0v"
  },
  {
   "cell_type": "code",
   "metadata": {
    "id": "exBo1A-yxT0v",
    "pycharm": {
     "name": "#%%\n"
    }
   },
   "source": [
    "MLP = MLPClassifier(random_state=1, max_iter=300)\n",
    "MLP.fit(X_train, y_train)\n",
    "Y_pred = gaussian.predict(X_test) \n",
    "accuracy_MLP=round(accuracy_score(y_test,Y_pred)* 100, 2)\n",
    "acc_MLP = round(MLP.score(X_train, y_train) * 100, 2)\n",
    "\n",
    "cm = confusion_matrix(y_test, Y_pred)\n",
    "accuracy = accuracy_score(y_test,Y_pred)\n",
    "precision =precision_score(y_test, Y_pred,average='micro')\n",
    "recall =  recall_score(y_test, Y_pred,average='micro')\n",
    "f1 = f1_score(y_test,Y_pred,average='micro')\n",
    "print('Confusion matrix for Multi Layer Perceptron\\n',cm)\n",
    "print('accuracy_Multi Layer Perceptron: %.3f' %accuracy)\n",
    "print('precision_Multi Layer Perceptron: %.3f' %precision)\n",
    "print('recall_Multi Layer Perceptron: %.3f' %recall)\n",
    "print('f1-score_Multi Layer Perceptron : %.3f' %f1)"
   ],
   "id": "exBo1A-yxT0v",
   "execution_count": null,
   "outputs": []
  },
  {
   "cell_type": "markdown",
   "metadata": {
    "id": "ExChpTPyxT0v",
    "pycharm": {
     "name": "#%% md\n"
    }
   },
   "source": [
    "## Support Vector Machine (SVM)"
   ],
   "id": "ExChpTPyxT0v"
  },
  {
   "cell_type": "code",
   "metadata": {
    "id": "6Tn83q8ixT0v",
    "pycharm": {
     "name": "#%%\n"
    }
   },
   "source": [
    "linear_svc = LinearSVC(max_iter=4000)\n",
    "linear_svc.fit(X_train, y_train)\n",
    "Y_pred = linear_svc.predict(X_test)\n",
    "accuracy_svc=round(accuracy_score(y_test,Y_pred)* 100, 2)\n",
    "acc_linear_svc = round(linear_svc.score(X_train, y_train) * 100, 2)\n",
    "\n",
    "cm = confusion_matrix(y_test, Y_pred)\n",
    "accuracy = accuracy_score(y_test,Y_pred)\n",
    "precision =precision_score(y_test, Y_pred,average='micro')\n",
    "recall =  recall_score(y_test, Y_pred,average='micro')\n",
    "f1 = f1_score(y_test,Y_pred,average='micro')\n",
    "print('Confusion matrix for SVC\\n',cm)\n",
    "print('accuracy_SVC: %.3f' %accuracy)\n",
    "print('precision_SVC: %.3f' %precision)\n",
    "print('recall_SVC: %.3f' %recall)\n",
    "print('f1-score_SVC : %.3f' %f1)"
   ],
   "id": "6Tn83q8ixT0v",
   "execution_count": null,
   "outputs": []
  },
  {
   "cell_type": "markdown",
   "metadata": {
    "id": "2LU-FmX5xT0w",
    "pycharm": {
     "name": "#%% md\n"
    }
   },
   "source": [
    "# Find best model"
   ],
   "id": "2LU-FmX5xT0w"
  },
  {
   "cell_type": "code",
   "metadata": {
    "id": "mp8c_Wz1xT0w",
    "pycharm": {
     "name": "#%%\n"
    }
   },
   "source": [
    "results = pd.DataFrame({\n",
    "    'Model': [ 'KNN', \n",
    "              'Random Forest',\n",
    "              'Naive Bayes',  \n",
    "              ' Support Vector Machine',\n",
    "              'Multi Layer Perceptron',\n",
    "              'Decision Tree'],\n",
    "    'Score': [ acc_knn, \n",
    "              acc_random_forest,\n",
    "              acc_gaussian,  \n",
    "              acc_linear_svc,\n",
    "              acc_MLP,\n",
    "              acc_decision_tree],\n",
    "    \"Accuracy_score\":[accuracy_knn,\n",
    "                      accuracy_rf,\n",
    "                      accuracy_nb,\n",
    "                      accuracy_svc,\n",
    "                      accuracy_MLP,\n",
    "                      accuracy_dt\n",
    "                     ]})\n",
    "result_df = results.sort_values(by='Accuracy_score', ascending=False)\n",
    "result_df = result_df.reset_index(drop=True)\n",
    "result_df.head(9)"
   ],
   "id": "mp8c_Wz1xT0w",
   "execution_count": null,
   "outputs": []
  },
  {
   "cell_type": "code",
   "metadata": {
    "id": "ByXFGVWpxT0w",
    "pycharm": {
     "name": "#%%\n"
    }
   },
   "source": [
    "plt.subplots(figsize=(12,8))\n",
    "ax=sns.barplot(x='Model',y=\"Accuracy_score\",data=result_df)\n",
    "labels = (result_df[\"Accuracy_score\"])\n",
    "# add result numbers on barchart\n",
    "for i, v in enumerate(labels):\n",
    "    ax.text(i, v+1, str(v), horizontalalignment = 'center', size = 15, color = 'black')"
   ],
   "id": "ByXFGVWpxT0w",
   "execution_count": null,
   "outputs": []
  },
  {
   "cell_type": "code",
   "metadata": {
    "id": "jepMAkeWxT0x",
    "pycharm": {
     "name": "#%%\n"
    }
   },
   "source": [],
   "id": "jepMAkeWxT0x",
   "execution_count": null,
   "outputs": []
  }
 ]
}