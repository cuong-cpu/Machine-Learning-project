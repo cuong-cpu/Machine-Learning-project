{
  "nbformat": 4,
  "nbformat_minor": 0,
  "metadata": {
    "colab": {
      "name": "Image classification.ipynb",
      "provenance": []
    },
    "kernelspec": {
      "name": "python3",
      "display_name": "Python 3"
    },
    "language_info": {
      "name": "python"
    },
    "accelerator": "TPU",
    "gpuClass": "standard"
  },
  "cells": [
    {
      "cell_type": "code",
      "execution_count": null,
      "metadata": {
        "id": "-EWPH9tfXP3Z"
      },
      "outputs": [],
      "source": [
        "import numpy as np \n",
        "import matplotlib.pyplot as plt \n",
        "import random \n",
        "import os \n",
        "import PIL \n",
        "\n",
        "from keras.utils import np_utils\n",
        "from keras.models import Sequential \n",
        "from keras.layers.core import Dense,Dropout, Activation \n",
        "from skimage.transform import resize \n",
        "from sklearn.metrics import confusion_matrix"
      ]
    },
    {
      "cell_type": "markdown",
      "source": [
        "Load dữ liệu lên "
      ],
      "metadata": {
        "id": "hsUvKq02Jlcn"
      }
    },
    {
      "cell_type": "code",
      "source": [
        "DATASET_PATH = \"/content/Datasets\"\n",
        "\n",
        "target_width = 28 \n",
        "target_height = 28 \n",
        "INVERT = False \n",
        "\n",
        "val_ratio = 0.2 \n",
        "test_ratio = 0.2 \n",
        "\n",
        "random.seed(42)"
      ],
      "metadata": {
        "id": "bhSsFRMIYRo4"
      },
      "execution_count": null,
      "outputs": []
    },
    {
      "cell_type": "markdown",
      "source": [
        "phân chia dữ liệu vào mảng "
      ],
      "metadata": {
        "id": "Zje2i038JryU"
      }
    },
    {
      "cell_type": "code",
      "source": [
        "labels = []\n",
        "y_all = []\n",
        "x_all = []\n",
        "\n",
        "for label in os.listdir(DATASET_PATH):\n",
        "  class_dir = os.path.join(DATASET_PATH,label)\n",
        "  if os.path.isdir(class_dir) and label != '.ipynb_checkpoints':\n",
        "    labels.append(label)\n",
        "    for i , file in enumerate(os.listdir(class_dir)):\n",
        "      if file != \".ipynb_checkpoints\":\n",
        "\n",
        "        file_path = os.path.join(class_dir, file)\n",
        "        img = PIL.Image.open(file_path).convert('L')\n",
        "\n",
        "        image_array = np.asarray(img)\n",
        "        \n",
        "        # if INVERT:\n",
        "        #   img_array = 255 - img_array\n",
        "        \n",
        "        x_all.append(image_array)\n",
        "\n",
        "        y_all.append(label)\n",
        "    print('Added',str(i+1),'image from',label)\n",
        "num_sample = len(x_all)\n",
        "\n",
        "labels = sorted(labels)\n",
        "\n",
        "print(labels)\n",
        "print('number of namples:',250)\n",
        "         "
      ],
      "metadata": {
        "id": "cA1L524Cade7",
        "colab": {
          "base_uri": "https://localhost:8080/"
        },
        "outputId": "90bf48b1-6621-46f4-e8da-1fb4ad8f2023"
      },
      "execution_count": null,
      "outputs": [
        {
          "output_type": "stream",
          "name": "stdout",
          "text": [
            "Added 50 image from Background\n",
            "Added 50 image from resistor\n",
            "Added 50 image from Led\n",
            "Added 50 image from Diode\n",
            "Added 50 image from Capacitor\n",
            "['Background', 'Capacitor', 'Diode', 'Led', 'resistor']\n",
            "number of namples: 250\n"
          ]
        }
      ]
    },
    {
      "cell_type": "markdown",
      "source": [
        "Mã hóa các nhãn "
      ],
      "metadata": {
        "id": "0UxYxi7QKAxB"
      }
    },
    {
      "cell_type": "code",
      "source": [
        "print('before:',y_all)\n",
        "y_out = []\n",
        "\n",
        "for i ,label in enumerate(y_all):\n",
        "  y_out.append(labels.index(label))\n",
        "y_all = y_out \n",
        "print('After:',y_all)"
      ],
      "metadata": {
        "id": "cL_8tINjcfxY",
        "colab": {
          "base_uri": "https://localhost:8080/"
        },
        "outputId": "b1589a98-41bd-4447-b121-e1817c41af65"
      },
      "execution_count": null,
      "outputs": [
        {
          "output_type": "stream",
          "name": "stdout",
          "text": [
            "before: ['Background', 'Background', 'Background', 'Background', 'Background', 'Background', 'Background', 'Background', 'Background', 'Background', 'Background', 'Background', 'Background', 'Background', 'Background', 'Background', 'Background', 'Background', 'Background', 'Background', 'Background', 'Background', 'Background', 'Background', 'Background', 'Background', 'Background', 'Background', 'Background', 'Background', 'Background', 'Background', 'Background', 'Background', 'Background', 'Background', 'Background', 'Background', 'Background', 'Background', 'Background', 'Background', 'Background', 'Background', 'Background', 'Background', 'Background', 'Background', 'Background', 'Background', 'resistor', 'resistor', 'resistor', 'resistor', 'resistor', 'resistor', 'resistor', 'resistor', 'resistor', 'resistor', 'resistor', 'resistor', 'resistor', 'resistor', 'resistor', 'resistor', 'resistor', 'resistor', 'resistor', 'resistor', 'resistor', 'resistor', 'resistor', 'resistor', 'resistor', 'resistor', 'resistor', 'resistor', 'resistor', 'resistor', 'resistor', 'resistor', 'resistor', 'resistor', 'resistor', 'resistor', 'resistor', 'resistor', 'resistor', 'resistor', 'resistor', 'resistor', 'resistor', 'resistor', 'resistor', 'resistor', 'resistor', 'resistor', 'resistor', 'resistor', 'Led', 'Led', 'Led', 'Led', 'Led', 'Led', 'Led', 'Led', 'Led', 'Led', 'Led', 'Led', 'Led', 'Led', 'Led', 'Led', 'Led', 'Led', 'Led', 'Led', 'Led', 'Led', 'Led', 'Led', 'Led', 'Led', 'Led', 'Led', 'Led', 'Led', 'Led', 'Led', 'Led', 'Led', 'Led', 'Led', 'Led', 'Led', 'Led', 'Led', 'Led', 'Led', 'Led', 'Led', 'Led', 'Led', 'Led', 'Led', 'Led', 'Led', 'Diode', 'Diode', 'Diode', 'Diode', 'Diode', 'Diode', 'Diode', 'Diode', 'Diode', 'Diode', 'Diode', 'Diode', 'Diode', 'Diode', 'Diode', 'Diode', 'Diode', 'Diode', 'Diode', 'Diode', 'Diode', 'Diode', 'Diode', 'Diode', 'Diode', 'Diode', 'Diode', 'Diode', 'Diode', 'Diode', 'Diode', 'Diode', 'Diode', 'Diode', 'Diode', 'Diode', 'Diode', 'Diode', 'Diode', 'Diode', 'Diode', 'Diode', 'Diode', 'Diode', 'Diode', 'Diode', 'Diode', 'Diode', 'Diode', 'Diode', 'Capacitor', 'Capacitor', 'Capacitor', 'Capacitor', 'Capacitor', 'Capacitor', 'Capacitor', 'Capacitor', 'Capacitor', 'Capacitor', 'Capacitor', 'Capacitor', 'Capacitor', 'Capacitor', 'Capacitor', 'Capacitor', 'Capacitor', 'Capacitor', 'Capacitor', 'Capacitor', 'Capacitor', 'Capacitor', 'Capacitor', 'Capacitor', 'Capacitor', 'Capacitor', 'Capacitor', 'Capacitor', 'Capacitor', 'Capacitor', 'Capacitor', 'Capacitor', 'Capacitor', 'Capacitor', 'Capacitor', 'Capacitor', 'Capacitor', 'Capacitor', 'Capacitor', 'Capacitor', 'Capacitor', 'Capacitor', 'Capacitor', 'Capacitor', 'Capacitor', 'Capacitor', 'Capacitor', 'Capacitor', 'Capacitor', 'Capacitor']\n",
            "After: [0, 0, 0, 0, 0, 0, 0, 0, 0, 0, 0, 0, 0, 0, 0, 0, 0, 0, 0, 0, 0, 0, 0, 0, 0, 0, 0, 0, 0, 0, 0, 0, 0, 0, 0, 0, 0, 0, 0, 0, 0, 0, 0, 0, 0, 0, 0, 0, 0, 0, 4, 4, 4, 4, 4, 4, 4, 4, 4, 4, 4, 4, 4, 4, 4, 4, 4, 4, 4, 4, 4, 4, 4, 4, 4, 4, 4, 4, 4, 4, 4, 4, 4, 4, 4, 4, 4, 4, 4, 4, 4, 4, 4, 4, 4, 4, 4, 4, 4, 4, 3, 3, 3, 3, 3, 3, 3, 3, 3, 3, 3, 3, 3, 3, 3, 3, 3, 3, 3, 3, 3, 3, 3, 3, 3, 3, 3, 3, 3, 3, 3, 3, 3, 3, 3, 3, 3, 3, 3, 3, 3, 3, 3, 3, 3, 3, 3, 3, 3, 3, 2, 2, 2, 2, 2, 2, 2, 2, 2, 2, 2, 2, 2, 2, 2, 2, 2, 2, 2, 2, 2, 2, 2, 2, 2, 2, 2, 2, 2, 2, 2, 2, 2, 2, 2, 2, 2, 2, 2, 2, 2, 2, 2, 2, 2, 2, 2, 2, 2, 2, 1, 1, 1, 1, 1, 1, 1, 1, 1, 1, 1, 1, 1, 1, 1, 1, 1, 1, 1, 1, 1, 1, 1, 1, 1, 1, 1, 1, 1, 1, 1, 1, 1, 1, 1, 1, 1, 1, 1, 1, 1, 1, 1, 1, 1, 1, 1, 1, 1, 1]\n"
          ]
        }
      ]
    },
    {
      "cell_type": "markdown",
      "source": [
        "sáo chộn dữ liệu rồi chia dữ liệu thành train,val,test"
      ],
      "metadata": {
        "id": "uTMRiYz9KEbz"
      }
    },
    {
      "cell_type": "code",
      "source": [
        "x_y = list(zip(x_all, y_all))\n",
        "random.shuffle(x_y)\n",
        "x_all, y_all = zip(*x_y)\n",
        "\n",
        "num_sample_test = int(test_ratio * num_sample)\n",
        "num_sample_val = int(val_ratio * num_sample)\n",
        "\n",
        "x_test = x_all[:num_sample_test]\n",
        "y_test = y_all[:num_sample_test]\n",
        "\n",
        "\n",
        "x_val = x_all[num_sample_test:(num_sample_test+num_sample_val)]\n",
        "y_val = y_all[num_sample_test:(num_sample_test+num_sample_val)]\n",
        "\n",
        "x_train = x_all[(num_sample_test + num_sample_val):]\n",
        "y_train = y_all[(num_sample_test + num_sample_val):]\n",
        "\n",
        "num_sample_train = len(x_train)\n",
        "\n",
        "print('Number of test sample:', num_sample_test)\n",
        "print('Number of validation samples:', num_sample_val)\n",
        "print('Number of training sample:',num_sample_train)"
      ],
      "metadata": {
        "id": "iQBd5PNmgo61",
        "colab": {
          "base_uri": "https://localhost:8080/"
        },
        "outputId": "bb263de7-2648-4199-abf4-f38aed8acbd3"
      },
      "execution_count": null,
      "outputs": [
        {
          "output_type": "stream",
          "name": "stdout",
          "text": [
            "Number of test sample: 50\n",
            "Number of validation samples: 50\n",
            "Number of training sample: 150\n"
          ]
        }
      ]
    },
    {
      "cell_type": "markdown",
      "source": [
        "load ảnh lên để xem thử "
      ],
      "metadata": {
        "id": "mlIHFEIdKLic"
      }
    },
    {
      "cell_type": "code",
      "source": [
        "idx  = 0\n",
        "print(\"Label: \"+ str(y_train[idx])+\"(\"+labels[y_train[idx]]+\")\")\n",
        "print(x_train[idx])\n",
        "\n",
        "plt.imshow(x_train[idx],cmap='gray',vmin = 0, vmax = 255)"
      ],
      "metadata": {
        "id": "AV7ski_ahspr",
        "colab": {
          "base_uri": "https://localhost:8080/",
          "height": 424
        },
        "outputId": "15d079bd-2aa7-4a87-fc42-6190ed9fea48"
      },
      "execution_count": null,
      "outputs": [
        {
          "output_type": "stream",
          "name": "stdout",
          "text": [
            "Label: 3(Led)\n",
            "[[157 157 159 ... 168 168 168]\n",
            " [157 157 159 ... 171 171 171]\n",
            " [157 157 159 ... 168 168 168]\n",
            " ...\n",
            " [110 110 110 ... 149 149 149]\n",
            " [110 110 110 ... 146 146 146]\n",
            " [107 110 110 ... 146 146 146]]\n"
          ]
        },
        {
          "output_type": "execute_result",
          "data": {
            "text/plain": [
              "<matplotlib.image.AxesImage at 0x7f42914773d0>"
            ]
          },
          "metadata": {},
          "execution_count": 40
        },
        {
          "output_type": "display_data",
          "data": {
            "text/plain": [
              "<Figure size 432x288 with 1 Axes>"
            ],
            "image/png": "[encoded data removed]"
          },
          "metadata": {
            "needs_background": "light"
          }
        }
      ]
    },
    {
      "cell_type": "markdown",
      "source": [
        "chỉnh lại kích cỡ ảnh"
      ],
      "metadata": {
        "id": "2TGi3wZ9K2ff"
      }
    },
    {
      "cell_type": "code",
      "source": [
        "def resize_image(images, width , height , anti_aliasing=True):\n",
        "  X_out = []\n",
        "  for i, img in enumerate(images):\n",
        "    X_out.append(resize(img, (height, width), anti_aliasing=anti_aliasing))\n",
        "  return X_out"
      ],
      "metadata": {
        "id": "LqwY9WUAn44Y"
      },
      "execution_count": null,
      "outputs": []
    },
    {
      "cell_type": "code",
      "source": [
        "x_train = resize_image(x_train, target_width,target_height)\n",
        "\n",
        "x_val = resize_image(x_val,target_width,target_height)\n",
        "\n",
        "x_test = resize_image(x_test,target_width,target_height)"
      ],
      "metadata": {
        "id": "dHMeKRkUL_we"
      },
      "execution_count": null,
      "outputs": []
    },
    {
      "cell_type": "code",
      "source": [
        "idx  = 0 \n",
        "print(\"Label: \"+ str(y_train[idx])+\"(\"+labels[y_train[idx]]+\")\")\n",
        "print(x_train[idx][:1,:])\n",
        "\n",
        "plt.imshow(x_train[idx],cmap='gray',vmin = 0, vmax = 1)"
      ],
      "metadata": {
        "id": "rxSEldYfvU8g",
        "colab": {
          "base_uri": "https://localhost:8080/",
          "height": 386
        },
        "outputId": "1a219f5a-e5c8-4885-803b-93959216edf2"
      },
      "execution_count": null,
      "outputs": [
        {
          "output_type": "stream",
          "name": "stdout",
          "text": [
            "Label: 3(Led)\n",
            "[[0.61568627 0.62158864 0.62667067 0.62745098 0.63137255 0.63277311\n",
            "  0.63921569 0.63921569 0.63921569 0.63921569 0.64313725 0.64313725\n",
            "  0.66022409 0.6627451  0.65406162 0.66244498 0.6627451  0.6627451\n",
            "  0.6627451  0.6627451  0.6627451  0.6627451  0.6627451  0.6627451\n",
            "  0.6627451  0.6627451  0.65882353 0.65882353]]\n"
          ]
        },
        {
          "output_type": "execute_result",
          "data": {
            "text/plain": [
              "<matplotlib.image.AxesImage at 0x7f42912ea7d0>"
            ]
          },
          "metadata": {},
          "execution_count": 43
        },
        {
          "output_type": "display_data",
          "data": {
            "text/plain": [
              "<Figure size 432x288 with 1 Axes>"
            ],
            "image/png": "[encoded data removed]"
          },
          "metadata": {
            "needs_background": "light"
          }
        }
      ]
    },
    {
      "cell_type": "markdown",
      "source": [
        "chia dữ liệu thành np array"
      ],
      "metadata": {
        "id": "48idEBVDLjpI"
      }
    },
    {
      "cell_type": "code",
      "source": [
        "x_train = np.asarray(x_train)\n",
        "y_train = np.asarray(y_train)\n",
        "\n",
        "# Validation set\n",
        "X_val = np.array(x_val)\n",
        "y_val = np.array(y_val)\n",
        "\n",
        "X_val = np.asarray(x_val)\n",
        "y_val = np.asarray(y_val)\n",
        "\n",
        "# Test set\n",
        "X_test = np.asarray(x_test)\n",
        "y_test = np.asarray(y_test)\n",
        "\n",
        "# Print out the new Numpy array shapes (always a good idea to check the shapes!)\n",
        "print(\"Training X:\", x_train.shape)\n",
        "print(\"Training y:\", y_train.shape)\n",
        "print(\"Validation X:\", X_val.shape)\n",
        "print(\"Validation y:\", y_val.shape)\n",
        "print(\"Test X:\", X_test.shape)\n",
        "print(\"Test y:\", y_test.shape)"
      ],
      "metadata": {
        "id": "mR15vmpewBVA",
        "colab": {
          "base_uri": "https://localhost:8080/"
        },
        "outputId": "74d3fa41-e30d-4de7-d14e-a2f5f4d11881"
      },
      "execution_count": null,
      "outputs": [
        {
          "output_type": "stream",
          "name": "stdout",
          "text": [
            "Training X: (150, 28, 28)\n",
            "Training y: (150,)\n",
            "Validation X: (50, 28, 28)\n",
            "Validation y: (50,)\n",
            "Test X: (50, 28, 28)\n",
            "Test y: (50,)\n"
          ]
        }
      ]
    },
    {
      "cell_type": "markdown",
      "source": [
        "duỗi ảnh"
      ],
      "metadata": {
        "id": "7TR2S0zTLvtM"
      }
    },
    {
      "cell_type": "code",
      "source": [
        "len_vector = target_width * target_height\n",
        "\n",
        "# Flatten matricies to vectors\n",
        "x_train = x_train.reshape(num_sample_train, len_vector)\n",
        "X_val = X_val.reshape(num_sample_val, len_vector)\n",
        "X_test = X_test.reshape(num_sample_test, len_vector)\n",
        "\n",
        "# Determine the input shape for our Keras model (must be tuple)\n",
        "input_shape = (x_train.shape[1],)\n",
        "\n",
        "# Print out shapes\n",
        "print(\"X train:\", x_train.shape)\n",
        "print(\"y train:\", y_train.shape)\n",
        "print(\"X val:\", X_val.shape)\n",
        "print(\"y val:\", y_val.shape)\n",
        "print(\"X test:\", X_test.shape)\n",
        "print(\"y test:\", y_test.shape)\n",
        "print(\"Input tensor shape:\", input_shape)"
      ],
      "metadata": {
        "id": "3haqyHu0wUjA",
        "colab": {
          "base_uri": "https://localhost:8080/"
        },
        "outputId": "f5c5cc68-7d86-4605-be85-62f55b915e62"
      },
      "execution_count": null,
      "outputs": [
        {
          "output_type": "stream",
          "name": "stdout",
          "text": [
            "X train: (150, 784)\n",
            "y train: (150,)\n",
            "X val: (50, 784)\n",
            "y val: (50,)\n",
            "X test: (50, 784)\n",
            "y test: (50,)\n",
            "Input tensor shape: (784,)\n"
          ]
        }
      ]
    },
    {
      "cell_type": "markdown",
      "source": [
        "chuyển các nhãn thành one-hot vector"
      ],
      "metadata": {
        "id": "mMLvbhMUMGoH"
      }
    },
    {
      "cell_type": "code",
      "source": [
        "# Get number of classes\n",
        "num_classes = len(labels)\n",
        "\n",
        "# Use Keras's np_utils to create one-hot encoding (note the capital 'Y' - 2D array)\n",
        "Y_train = np_utils.to_categorical(y_train, num_classes)\n",
        "Y_val = np_utils.to_categorical(y_val, num_classes)\n",
        "Y_test = np_utils.to_categorical(y_test, num_classes)\n",
        "\n",
        "# Print out shapes (capital 'Y' is our one-hot matrix!)\n",
        "print(\"Y train:\", Y_train.shape)\n",
        "print(\"Y val:\", Y_val.shape)\n",
        "print(\"Y test:\", Y_test.shape)\n",
        "\n",
        "# Print out a few examples from training set\n",
        "for i in range(10):\n",
        "  print(\"Label: \" + str(y_train[i]) + \" | One-hot:\", Y_train[i])"
      ],
      "metadata": {
        "id": "osjxzcIywffB",
        "colab": {
          "base_uri": "https://localhost:8080/"
        },
        "outputId": "4d6434e5-a15d-4f81-beb6-b834278f9495"
      },
      "execution_count": null,
      "outputs": [
        {
          "output_type": "stream",
          "name": "stdout",
          "text": [
            "Y train: (150, 5)\n",
            "Y val: (50, 5)\n",
            "Y test: (50, 5)\n",
            "Label: 3 | One-hot: [0. 0. 0. 1. 0.]\n",
            "Label: 3 | One-hot: [0. 0. 0. 1. 0.]\n",
            "Label: 1 | One-hot: [0. 1. 0. 0. 0.]\n",
            "Label: 1 | One-hot: [0. 1. 0. 0. 0.]\n",
            "Label: 1 | One-hot: [0. 1. 0. 0. 0.]\n",
            "Label: 0 | One-hot: [1. 0. 0. 0. 0.]\n",
            "Label: 3 | One-hot: [0. 0. 0. 1. 0.]\n",
            "Label: 2 | One-hot: [0. 0. 1. 0. 0.]\n",
            "Label: 3 | One-hot: [0. 0. 0. 1. 0.]\n",
            "Label: 0 | One-hot: [1. 0. 0. 0. 0.]\n"
          ]
        }
      ]
    },
    {
      "cell_type": "markdown",
      "source": [
        "tạo mô hình"
      ],
      "metadata": {
        "id": "kw0lfzf5LXdF"
      }
    },
    {
      "cell_type": "code",
      "source": [
        "model = Sequential()\n",
        "\n",
        "# First layer: fully-connected with relu activation\n",
        "model.add(Dense(64, input_shape=input_shape))\n",
        "model.add(Activation('relu'))\n",
        "model.add(Dropout(0.25))\n",
        "\n",
        "# Second layer: fully-connected with relu activation\n",
        "model.add(Dense(64))   # Input shape is determined automatically from previous layer\n",
        "model.add(Activation('relu'))\n",
        "model.add(Dropout(0.25))\n",
        "\n",
        "# Third layer: 10 nodes, one for each class, and softmax activation\n",
        "model.add(Dense(num_classes))\n",
        "model.add(Activation('softmax'))\n",
        "\n",
        "# Configure the model's training settings\n",
        "model.compile(loss='categorical_crossentropy', optimizer='adam', metrics=['acc'])\n",
        "\n",
        "# Print out model summary\n",
        "print(model.summary())"
      ],
      "metadata": {
        "id": "tGPvsvYnzSAA",
        "colab": {
          "base_uri": "https://localhost:8080/"
        },
        "outputId": "4873b5e2-62b9-4b02-da80-da32e71fb21f"
      },
      "execution_count": null,
      "outputs": [
        {
          "output_type": "stream",
          "name": "stdout",
          "text": [
            "Model: \"sequential_1\"\n",
            "_________________________________________________________________\n",
            " Layer (type)                Output Shape              Param #   \n",
            "=================================================================\n",
            " dense_3 (Dense)             (None, 64)                50240     \n",
            "                                                                 \n",
            " activation_3 (Activation)   (None, 64)                0         \n",
            "                                                                 \n",
            " dropout_2 (Dropout)         (None, 64)                0         \n",
            "                                                                 \n",
            " dense_4 (Dense)             (None, 64)                4160      \n",
            "                                                                 \n",
            " activation_4 (Activation)   (None, 64)                0         \n",
            "                                                                 \n",
            " dropout_3 (Dropout)         (None, 64)                0         \n",
            "                                                                 \n",
            " dense_5 (Dense)             (None, 5)                 325       \n",
            "                                                                 \n",
            " activation_5 (Activation)   (None, 5)                 0         \n",
            "                                                                 \n",
            "=================================================================\n",
            "Total params: 54,725\n",
            "Trainable params: 54,725\n",
            "Non-trainable params: 0\n",
            "_________________________________________________________________\n",
            "None\n"
          ]
        }
      ]
    },
    {
      "cell_type": "markdown",
      "source": [
        "Huấn luyện mô hình "
      ],
      "metadata": {
        "id": "k5YwXYF0LaI-"
      }
    },
    {
      "cell_type": "code",
      "source": [
        "history = model.fit(x_train, \n",
        "                    Y_train, \n",
        "                    batch_size=32, \n",
        "                    epochs=200, \n",
        "                    verbose=1,\n",
        "                    validation_data=(X_val, Y_val))\n",
        "#validation_data=(X_val, Y_val)"
      ],
      "metadata": {
        "id": "JS9QAho_znMx",
        "colab": {
          "base_uri": "https://localhost:8080/"
        },
        "outputId": "15693dc7-e03c-4aac-87fe-04b56cfa7b2f"
      },
      "execution_count": null,
      "outputs": [
        {
          "output_type": "stream",
          "name": "stdout",
          "text": [
            "Epoch 1/200\n",
            "5/5 [==============================] - 1s 51ms/step - loss: 1.6359 - acc: 0.2467 - val_loss: 1.5841 - val_acc: 0.2800\n",
            "Epoch 2/200\n",
            "5/5 [==============================] - 0s 11ms/step - loss: 1.6504 - acc: 0.1933 - val_loss: 1.5491 - val_acc: 0.4200\n",
            "Epoch 3/200\n",
            "5/5 [==============================] - 0s 10ms/step - loss: 1.5713 - acc: 0.3133 - val_loss: 1.5034 - val_acc: 0.5000\n",
            "Epoch 4/200\n",
            "5/5 [==============================] - 0s 13ms/step - loss: 1.5372 - acc: 0.3133 - val_loss: 1.4716 - val_acc: 0.6400\n",
            "Epoch 5/200\n",
            "5/5 [==============================] - 0s 9ms/step - loss: 1.5002 - acc: 0.3133 - val_loss: 1.4402 - val_acc: 0.6400\n",
            "Epoch 6/200\n",
            "5/5 [==============================] - 0s 10ms/step - loss: 1.4851 - acc: 0.3733 - val_loss: 1.4178 - val_acc: 0.4400\n",
            "Epoch 7/200\n",
            "5/5 [==============================] - 0s 10ms/step - loss: 1.4327 - acc: 0.4067 - val_loss: 1.3639 - val_acc: 0.5200\n",
            "Epoch 8/200\n",
            "5/5 [==============================] - 0s 10ms/step - loss: 1.4051 - acc: 0.4400 - val_loss: 1.3425 - val_acc: 0.5000\n",
            "Epoch 9/200\n",
            "5/5 [==============================] - 0s 9ms/step - loss: 1.3975 - acc: 0.4400 - val_loss: 1.3040 - val_acc: 0.5400\n",
            "Epoch 10/200\n",
            "5/5 [==============================] - 0s 9ms/step - loss: 1.3514 - acc: 0.4800 - val_loss: 1.2546 - val_acc: 0.8200\n",
            "Epoch 11/200\n",
            "5/5 [==============================] - 0s 10ms/step - loss: 1.2884 - acc: 0.4933 - val_loss: 1.1693 - val_acc: 0.5800\n",
            "Epoch 12/200\n",
            "5/5 [==============================] - 0s 9ms/step - loss: 1.2341 - acc: 0.4800 - val_loss: 1.0953 - val_acc: 0.7800\n",
            "Epoch 13/200\n",
            "5/5 [==============================] - 0s 11ms/step - loss: 1.1986 - acc: 0.5733 - val_loss: 1.0494 - val_acc: 0.7200\n",
            "Epoch 14/200\n",
            "5/5 [==============================] - 0s 9ms/step - loss: 1.1702 - acc: 0.5933 - val_loss: 0.9976 - val_acc: 0.7600\n",
            "Epoch 15/200\n",
            "5/5 [==============================] - 0s 10ms/step - loss: 1.0642 - acc: 0.5733 - val_loss: 0.8999 - val_acc: 0.8800\n",
            "Epoch 16/200\n",
            "5/5 [==============================] - 0s 9ms/step - loss: 1.0217 - acc: 0.6400 - val_loss: 0.8599 - val_acc: 0.8600\n",
            "Epoch 17/200\n",
            "5/5 [==============================] - 0s 9ms/step - loss: 1.0086 - acc: 0.5800 - val_loss: 0.7600 - val_acc: 0.7800\n",
            "Epoch 18/200\n",
            "5/5 [==============================] - 0s 9ms/step - loss: 0.9785 - acc: 0.6600 - val_loss: 0.7279 - val_acc: 0.7800\n",
            "Epoch 19/200\n",
            "5/5 [==============================] - 0s 9ms/step - loss: 0.8721 - acc: 0.6800 - val_loss: 0.7011 - val_acc: 0.8400\n",
            "Epoch 20/200\n",
            "5/5 [==============================] - 0s 10ms/step - loss: 0.9045 - acc: 0.6800 - val_loss: 0.6530 - val_acc: 0.8000\n",
            "Epoch 21/200\n",
            "5/5 [==============================] - 0s 10ms/step - loss: 0.8321 - acc: 0.6933 - val_loss: 0.6518 - val_acc: 0.8000\n",
            "Epoch 22/200\n",
            "5/5 [==============================] - 0s 9ms/step - loss: 0.8242 - acc: 0.6267 - val_loss: 0.5759 - val_acc: 0.9000\n",
            "Epoch 23/200\n",
            "5/5 [==============================] - 0s 10ms/step - loss: 0.7794 - acc: 0.7000 - val_loss: 0.5522 - val_acc: 0.9600\n",
            "Epoch 24/200\n",
            "5/5 [==============================] - 0s 10ms/step - loss: 0.7568 - acc: 0.7000 - val_loss: 0.5530 - val_acc: 0.8000\n",
            "Epoch 25/200\n",
            "5/5 [==============================] - 0s 9ms/step - loss: 0.7592 - acc: 0.6933 - val_loss: 0.5141 - val_acc: 0.8800\n",
            "Epoch 26/200\n",
            "5/5 [==============================] - 0s 9ms/step - loss: 0.7260 - acc: 0.7600 - val_loss: 0.5068 - val_acc: 0.8400\n",
            "Epoch 27/200\n",
            "5/5 [==============================] - 0s 9ms/step - loss: 0.8049 - acc: 0.6933 - val_loss: 0.4780 - val_acc: 0.9400\n",
            "Epoch 28/200\n",
            "5/5 [==============================] - 0s 11ms/step - loss: 0.6616 - acc: 0.8200 - val_loss: 0.5151 - val_acc: 0.8800\n",
            "Epoch 29/200\n",
            "5/5 [==============================] - 0s 10ms/step - loss: 0.6844 - acc: 0.7600 - val_loss: 0.4665 - val_acc: 0.8800\n",
            "Epoch 30/200\n",
            "5/5 [==============================] - 0s 12ms/step - loss: 0.6679 - acc: 0.7000 - val_loss: 0.4102 - val_acc: 0.9200\n",
            "Epoch 31/200\n",
            "5/5 [==============================] - 0s 9ms/step - loss: 0.6380 - acc: 0.7400 - val_loss: 0.4154 - val_acc: 0.8800\n",
            "Epoch 32/200\n",
            "5/5 [==============================] - 0s 9ms/step - loss: 0.5975 - acc: 0.7800 - val_loss: 0.3775 - val_acc: 0.9200\n",
            "Epoch 33/200\n",
            "5/5 [==============================] - 0s 10ms/step - loss: 0.5979 - acc: 0.8133 - val_loss: 0.4002 - val_acc: 0.9200\n",
            "Epoch 34/200\n",
            "5/5 [==============================] - 0s 9ms/step - loss: 0.6026 - acc: 0.7200 - val_loss: 0.3756 - val_acc: 0.9400\n",
            "Epoch 35/200\n",
            "5/5 [==============================] - 0s 9ms/step - loss: 0.5003 - acc: 0.8600 - val_loss: 0.3582 - val_acc: 0.9600\n",
            "Epoch 36/200\n",
            "5/5 [==============================] - 0s 11ms/step - loss: 0.5360 - acc: 0.7867 - val_loss: 0.3116 - val_acc: 0.9600\n",
            "Epoch 37/200\n",
            "5/5 [==============================] - 0s 10ms/step - loss: 0.5153 - acc: 0.8000 - val_loss: 0.3050 - val_acc: 0.9600\n",
            "Epoch 38/200\n",
            "5/5 [==============================] - 0s 11ms/step - loss: 0.5214 - acc: 0.7667 - val_loss: 0.3141 - val_acc: 0.9800\n",
            "Epoch 39/200\n",
            "5/5 [==============================] - 0s 10ms/step - loss: 0.5132 - acc: 0.8267 - val_loss: 0.3139 - val_acc: 0.9200\n",
            "Epoch 40/200\n",
            "5/5 [==============================] - 0s 9ms/step - loss: 0.4922 - acc: 0.8133 - val_loss: 0.2905 - val_acc: 0.9800\n",
            "Epoch 41/200\n",
            "5/5 [==============================] - 0s 10ms/step - loss: 0.4755 - acc: 0.8467 - val_loss: 0.2835 - val_acc: 0.9800\n",
            "Epoch 42/200\n",
            "5/5 [==============================] - 0s 9ms/step - loss: 0.5259 - acc: 0.8000 - val_loss: 0.2692 - val_acc: 0.9600\n",
            "Epoch 43/200\n",
            "5/5 [==============================] - 0s 12ms/step - loss: 0.4853 - acc: 0.8000 - val_loss: 0.2734 - val_acc: 0.9800\n",
            "Epoch 44/200\n",
            "5/5 [==============================] - 0s 11ms/step - loss: 0.4825 - acc: 0.8000 - val_loss: 0.2631 - val_acc: 0.9600\n",
            "Epoch 45/200\n",
            "5/5 [==============================] - 0s 11ms/step - loss: 0.4776 - acc: 0.8067 - val_loss: 0.2572 - val_acc: 1.0000\n",
            "Epoch 46/200\n",
            "5/5 [==============================] - 0s 10ms/step - loss: 0.4544 - acc: 0.8533 - val_loss: 0.2765 - val_acc: 0.9600\n",
            "Epoch 47/200\n",
            "5/5 [==============================] - 0s 10ms/step - loss: 0.4307 - acc: 0.8533 - val_loss: 0.2365 - val_acc: 0.9800\n",
            "Epoch 48/200\n",
            "5/5 [==============================] - 0s 10ms/step - loss: 0.4741 - acc: 0.8533 - val_loss: 0.2194 - val_acc: 0.9600\n",
            "Epoch 49/200\n",
            "5/5 [==============================] - 0s 9ms/step - loss: 0.4587 - acc: 0.8400 - val_loss: 0.3673 - val_acc: 0.9000\n",
            "Epoch 50/200\n",
            "5/5 [==============================] - 0s 9ms/step - loss: 0.4088 - acc: 0.8400 - val_loss: 0.2212 - val_acc: 0.9600\n",
            "Epoch 51/200\n",
            "5/5 [==============================] - 0s 9ms/step - loss: 0.4249 - acc: 0.8333 - val_loss: 0.2163 - val_acc: 0.9600\n",
            "Epoch 52/200\n",
            "5/5 [==============================] - 0s 9ms/step - loss: 0.4070 - acc: 0.8467 - val_loss: 0.2060 - val_acc: 1.0000\n",
            "Epoch 53/200\n",
            "5/5 [==============================] - 0s 10ms/step - loss: 0.4009 - acc: 0.8600 - val_loss: 0.2178 - val_acc: 0.9400\n",
            "Epoch 54/200\n",
            "5/5 [==============================] - 0s 11ms/step - loss: 0.4113 - acc: 0.8600 - val_loss: 0.2205 - val_acc: 0.9800\n",
            "Epoch 55/200\n",
            "5/5 [==============================] - 0s 15ms/step - loss: 0.4132 - acc: 0.8467 - val_loss: 0.1841 - val_acc: 0.9800\n",
            "Epoch 56/200\n",
            "5/5 [==============================] - 0s 10ms/step - loss: 0.4163 - acc: 0.8400 - val_loss: 0.2048 - val_acc: 1.0000\n",
            "Epoch 57/200\n",
            "5/5 [==============================] - 0s 10ms/step - loss: 0.3362 - acc: 0.8733 - val_loss: 0.1893 - val_acc: 0.9400\n",
            "Epoch 58/200\n",
            "5/5 [==============================] - 0s 10ms/step - loss: 0.3847 - acc: 0.8467 - val_loss: 0.1879 - val_acc: 0.9400\n",
            "Epoch 59/200\n",
            "5/5 [==============================] - 0s 9ms/step - loss: 0.3261 - acc: 0.8733 - val_loss: 0.1665 - val_acc: 1.0000\n",
            "Epoch 60/200\n",
            "5/5 [==============================] - 0s 9ms/step - loss: 0.4332 - acc: 0.8267 - val_loss: 0.1788 - val_acc: 1.0000\n",
            "Epoch 61/200\n",
            "5/5 [==============================] - 0s 10ms/step - loss: 0.3934 - acc: 0.8600 - val_loss: 0.2410 - val_acc: 0.9400\n",
            "Epoch 62/200\n",
            "5/5 [==============================] - 0s 10ms/step - loss: 0.3513 - acc: 0.8667 - val_loss: 0.1650 - val_acc: 0.9800\n",
            "Epoch 63/200\n",
            "5/5 [==============================] - 0s 11ms/step - loss: 0.3673 - acc: 0.8667 - val_loss: 0.1768 - val_acc: 1.0000\n",
            "Epoch 64/200\n",
            "5/5 [==============================] - 0s 9ms/step - loss: 0.3686 - acc: 0.8667 - val_loss: 0.1568 - val_acc: 1.0000\n",
            "Epoch 65/200\n",
            "5/5 [==============================] - 0s 10ms/step - loss: 0.3804 - acc: 0.8667 - val_loss: 0.1720 - val_acc: 0.9600\n",
            "Epoch 66/200\n",
            "5/5 [==============================] - 0s 9ms/step - loss: 0.3297 - acc: 0.8867 - val_loss: 0.1627 - val_acc: 0.9600\n",
            "Epoch 67/200\n",
            "5/5 [==============================] - 0s 10ms/step - loss: 0.3641 - acc: 0.8867 - val_loss: 0.1383 - val_acc: 1.0000\n",
            "Epoch 68/200\n",
            "5/5 [==============================] - 0s 9ms/step - loss: 0.3286 - acc: 0.8733 - val_loss: 0.1850 - val_acc: 0.9800\n",
            "Epoch 69/200\n",
            "5/5 [==============================] - 0s 10ms/step - loss: 0.3409 - acc: 0.8800 - val_loss: 0.1462 - val_acc: 0.9800\n",
            "Epoch 70/200\n",
            "5/5 [==============================] - 0s 17ms/step - loss: 0.3445 - acc: 0.8667 - val_loss: 0.1595 - val_acc: 1.0000\n",
            "Epoch 71/200\n",
            "5/5 [==============================] - 0s 11ms/step - loss: 0.3358 - acc: 0.8800 - val_loss: 0.1983 - val_acc: 0.9600\n",
            "Epoch 72/200\n",
            "5/5 [==============================] - 0s 11ms/step - loss: 0.3676 - acc: 0.8800 - val_loss: 0.1297 - val_acc: 1.0000\n",
            "Epoch 73/200\n",
            "5/5 [==============================] - 0s 11ms/step - loss: 0.3582 - acc: 0.8333 - val_loss: 0.1271 - val_acc: 1.0000\n",
            "Epoch 74/200\n",
            "5/5 [==============================] - 0s 10ms/step - loss: 0.3445 - acc: 0.8533 - val_loss: 0.1649 - val_acc: 0.9600\n",
            "Epoch 75/200\n",
            "5/5 [==============================] - 0s 10ms/step - loss: 0.3572 - acc: 0.8667 - val_loss: 0.1567 - val_acc: 1.0000\n",
            "Epoch 76/200\n",
            "5/5 [==============================] - 0s 11ms/step - loss: 0.3383 - acc: 0.8867 - val_loss: 0.1497 - val_acc: 0.9800\n",
            "Epoch 77/200\n",
            "5/5 [==============================] - 0s 13ms/step - loss: 0.3109 - acc: 0.8867 - val_loss: 0.1746 - val_acc: 0.9600\n",
            "Epoch 78/200\n",
            "5/5 [==============================] - 0s 10ms/step - loss: 0.2623 - acc: 0.9133 - val_loss: 0.1150 - val_acc: 1.0000\n",
            "Epoch 79/200\n",
            "5/5 [==============================] - 0s 15ms/step - loss: 0.2842 - acc: 0.9000 - val_loss: 0.1115 - val_acc: 1.0000\n",
            "Epoch 80/200\n",
            "5/5 [==============================] - 0s 9ms/step - loss: 0.2512 - acc: 0.9067 - val_loss: 0.1146 - val_acc: 1.0000\n",
            "Epoch 81/200\n",
            "5/5 [==============================] - 0s 11ms/step - loss: 0.3175 - acc: 0.8733 - val_loss: 0.1252 - val_acc: 0.9600\n",
            "Epoch 82/200\n",
            "5/5 [==============================] - 0s 9ms/step - loss: 0.3030 - acc: 0.8800 - val_loss: 0.1417 - val_acc: 1.0000\n",
            "Epoch 83/200\n",
            "5/5 [==============================] - 0s 10ms/step - loss: 0.3050 - acc: 0.9000 - val_loss: 0.1668 - val_acc: 0.9600\n",
            "Epoch 84/200\n",
            "5/5 [==============================] - 0s 12ms/step - loss: 0.3245 - acc: 0.8667 - val_loss: 0.1337 - val_acc: 0.9800\n",
            "Epoch 85/200\n",
            "5/5 [==============================] - 0s 10ms/step - loss: 0.2682 - acc: 0.9067 - val_loss: 0.1219 - val_acc: 1.0000\n",
            "Epoch 86/200\n",
            "5/5 [==============================] - 0s 10ms/step - loss: 0.3068 - acc: 0.9000 - val_loss: 0.1222 - val_acc: 0.9800\n",
            "Epoch 87/200\n",
            "5/5 [==============================] - 0s 10ms/step - loss: 0.2602 - acc: 0.8933 - val_loss: 0.0983 - val_acc: 1.0000\n",
            "Epoch 88/200\n",
            "5/5 [==============================] - 0s 10ms/step - loss: 0.2501 - acc: 0.9267 - val_loss: 0.1078 - val_acc: 0.9800\n",
            "Epoch 89/200\n",
            "5/5 [==============================] - 0s 12ms/step - loss: 0.2511 - acc: 0.9333 - val_loss: 0.1195 - val_acc: 1.0000\n",
            "Epoch 90/200\n",
            "5/5 [==============================] - 0s 10ms/step - loss: 0.2377 - acc: 0.9333 - val_loss: 0.1071 - val_acc: 0.9800\n",
            "Epoch 91/200\n",
            "5/5 [==============================] - 0s 12ms/step - loss: 0.2755 - acc: 0.8933 - val_loss: 0.1145 - val_acc: 0.9800\n",
            "Epoch 92/200\n",
            "5/5 [==============================] - 0s 11ms/step - loss: 0.2357 - acc: 0.9333 - val_loss: 0.1349 - val_acc: 1.0000\n",
            "Epoch 93/200\n",
            "5/5 [==============================] - 0s 10ms/step - loss: 0.2206 - acc: 0.9333 - val_loss: 0.0898 - val_acc: 0.9800\n",
            "Epoch 94/200\n",
            "5/5 [==============================] - 0s 11ms/step - loss: 0.2740 - acc: 0.9200 - val_loss: 0.1322 - val_acc: 0.9600\n",
            "Epoch 95/200\n",
            "5/5 [==============================] - 0s 10ms/step - loss: 0.2540 - acc: 0.9067 - val_loss: 0.1097 - val_acc: 0.9800\n",
            "Epoch 96/200\n",
            "5/5 [==============================] - 0s 9ms/step - loss: 0.2234 - acc: 0.9200 - val_loss: 0.0946 - val_acc: 1.0000\n",
            "Epoch 97/200\n",
            "5/5 [==============================] - 0s 11ms/step - loss: 0.2121 - acc: 0.9267 - val_loss: 0.1017 - val_acc: 0.9800\n",
            "Epoch 98/200\n",
            "5/5 [==============================] - 0s 11ms/step - loss: 0.2247 - acc: 0.9133 - val_loss: 0.1008 - val_acc: 0.9800\n",
            "Epoch 99/200\n",
            "5/5 [==============================] - 0s 11ms/step - loss: 0.2172 - acc: 0.9133 - val_loss: 0.0896 - val_acc: 0.9800\n",
            "Epoch 100/200\n",
            "5/5 [==============================] - 0s 10ms/step - loss: 0.2858 - acc: 0.8667 - val_loss: 0.1173 - val_acc: 0.9800\n",
            "Epoch 101/200\n",
            "5/5 [==============================] - 0s 9ms/step - loss: 0.2316 - acc: 0.9333 - val_loss: 0.0982 - val_acc: 0.9800\n",
            "Epoch 102/200\n",
            "5/5 [==============================] - 0s 11ms/step - loss: 0.2686 - acc: 0.9067 - val_loss: 0.1103 - val_acc: 0.9800\n",
            "Epoch 103/200\n",
            "5/5 [==============================] - 0s 11ms/step - loss: 0.2374 - acc: 0.9000 - val_loss: 0.1089 - val_acc: 0.9800\n",
            "Epoch 104/200\n",
            "5/5 [==============================] - 0s 9ms/step - loss: 0.2085 - acc: 0.9267 - val_loss: 0.0927 - val_acc: 1.0000\n",
            "Epoch 105/200\n",
            "5/5 [==============================] - 0s 10ms/step - loss: 0.2130 - acc: 0.9067 - val_loss: 0.1156 - val_acc: 0.9800\n",
            "Epoch 106/200\n",
            "5/5 [==============================] - 0s 9ms/step - loss: 0.1903 - acc: 0.8933 - val_loss: 0.0898 - val_acc: 0.9800\n",
            "Epoch 107/200\n",
            "5/5 [==============================] - 0s 11ms/step - loss: 0.1984 - acc: 0.9400 - val_loss: 0.0950 - val_acc: 0.9800\n",
            "Epoch 108/200\n",
            "5/5 [==============================] - 0s 9ms/step - loss: 0.2195 - acc: 0.9200 - val_loss: 0.1005 - val_acc: 0.9800\n",
            "Epoch 109/200\n",
            "5/5 [==============================] - 0s 12ms/step - loss: 0.2124 - acc: 0.9200 - val_loss: 0.0962 - val_acc: 1.0000\n",
            "Epoch 110/200\n",
            "5/5 [==============================] - 0s 10ms/step - loss: 0.1851 - acc: 0.9667 - val_loss: 0.1082 - val_acc: 0.9800\n",
            "Epoch 111/200\n",
            "5/5 [==============================] - 0s 11ms/step - loss: 0.2213 - acc: 0.9333 - val_loss: 0.1562 - val_acc: 0.9400\n",
            "Epoch 112/200\n",
            "5/5 [==============================] - 0s 10ms/step - loss: 0.2223 - acc: 0.9200 - val_loss: 0.0962 - val_acc: 0.9800\n",
            "Epoch 113/200\n",
            "5/5 [==============================] - 0s 10ms/step - loss: 0.1918 - acc: 0.9467 - val_loss: 0.0846 - val_acc: 0.9800\n",
            "Epoch 114/200\n",
            "5/5 [==============================] - 0s 9ms/step - loss: 0.2315 - acc: 0.9133 - val_loss: 0.1462 - val_acc: 0.9800\n",
            "Epoch 115/200\n",
            "5/5 [==============================] - 0s 13ms/step - loss: 0.2270 - acc: 0.9133 - val_loss: 0.1124 - val_acc: 0.9600\n",
            "Epoch 116/200\n",
            "5/5 [==============================] - 0s 9ms/step - loss: 0.2282 - acc: 0.9067 - val_loss: 0.0747 - val_acc: 0.9600\n",
            "Epoch 117/200\n",
            "5/5 [==============================] - 0s 10ms/step - loss: 0.2153 - acc: 0.9200 - val_loss: 0.1219 - val_acc: 0.9600\n",
            "Epoch 118/200\n",
            "5/5 [==============================] - 0s 10ms/step - loss: 0.2291 - acc: 0.9400 - val_loss: 0.0721 - val_acc: 0.9800\n",
            "Epoch 119/200\n",
            "5/5 [==============================] - 0s 10ms/step - loss: 0.1838 - acc: 0.9467 - val_loss: 0.0651 - val_acc: 0.9800\n",
            "Epoch 120/200\n",
            "5/5 [==============================] - 0s 10ms/step - loss: 0.2081 - acc: 0.9133 - val_loss: 0.0942 - val_acc: 0.9800\n",
            "Epoch 121/200\n",
            "5/5 [==============================] - 0s 10ms/step - loss: 0.2140 - acc: 0.9067 - val_loss: 0.0805 - val_acc: 0.9800\n",
            "Epoch 122/200\n",
            "5/5 [==============================] - 0s 11ms/step - loss: 0.2039 - acc: 0.9200 - val_loss: 0.0743 - val_acc: 0.9800\n",
            "Epoch 123/200\n",
            "5/5 [==============================] - 0s 10ms/step - loss: 0.1994 - acc: 0.9333 - val_loss: 0.1240 - val_acc: 0.9200\n",
            "Epoch 124/200\n",
            "5/5 [==============================] - 0s 9ms/step - loss: 0.1776 - acc: 0.9267 - val_loss: 0.0746 - val_acc: 0.9800\n",
            "Epoch 125/200\n",
            "5/5 [==============================] - 0s 9ms/step - loss: 0.2808 - acc: 0.9067 - val_loss: 0.0887 - val_acc: 0.9800\n",
            "Epoch 126/200\n",
            "5/5 [==============================] - 0s 11ms/step - loss: 0.1729 - acc: 0.9267 - val_loss: 0.1037 - val_acc: 0.9800\n",
            "Epoch 127/200\n",
            "5/5 [==============================] - 0s 10ms/step - loss: 0.1444 - acc: 0.9600 - val_loss: 0.0838 - val_acc: 0.9800\n",
            "Epoch 128/200\n",
            "5/5 [==============================] - 0s 9ms/step - loss: 0.1573 - acc: 0.9333 - val_loss: 0.0821 - val_acc: 0.9800\n",
            "Epoch 129/200\n",
            "5/5 [==============================] - 0s 11ms/step - loss: 0.1711 - acc: 0.9200 - val_loss: 0.0525 - val_acc: 0.9800\n",
            "Epoch 130/200\n",
            "5/5 [==============================] - 0s 10ms/step - loss: 0.2131 - acc: 0.9133 - val_loss: 0.0616 - val_acc: 1.0000\n",
            "Epoch 131/200\n",
            "5/5 [==============================] - 0s 10ms/step - loss: 0.1832 - acc: 0.9467 - val_loss: 0.0779 - val_acc: 0.9800\n",
            "Epoch 132/200\n",
            "5/5 [==============================] - 0s 10ms/step - loss: 0.1572 - acc: 0.9467 - val_loss: 0.0641 - val_acc: 1.0000\n",
            "Epoch 133/200\n",
            "5/5 [==============================] - 0s 13ms/step - loss: 0.1843 - acc: 0.9333 - val_loss: 0.0850 - val_acc: 0.9400\n",
            "Epoch 134/200\n",
            "5/5 [==============================] - 0s 10ms/step - loss: 0.1987 - acc: 0.9267 - val_loss: 0.0896 - val_acc: 0.9800\n",
            "Epoch 135/200\n",
            "5/5 [==============================] - 0s 15ms/step - loss: 0.1549 - acc: 0.9400 - val_loss: 0.0694 - val_acc: 1.0000\n",
            "Epoch 136/200\n",
            "5/5 [==============================] - 0s 10ms/step - loss: 0.1899 - acc: 0.9333 - val_loss: 0.0716 - val_acc: 0.9800\n",
            "Epoch 137/200\n",
            "5/5 [==============================] - 0s 10ms/step - loss: 0.1753 - acc: 0.9467 - val_loss: 0.1008 - val_acc: 0.9800\n",
            "Epoch 138/200\n",
            "5/5 [==============================] - 0s 11ms/step - loss: 0.1716 - acc: 0.9200 - val_loss: 0.0912 - val_acc: 0.9800\n",
            "Epoch 139/200\n",
            "5/5 [==============================] - 0s 11ms/step - loss: 0.1418 - acc: 0.9600 - val_loss: 0.0769 - val_acc: 0.9800\n",
            "Epoch 140/200\n",
            "5/5 [==============================] - 0s 11ms/step - loss: 0.1447 - acc: 0.9733 - val_loss: 0.0888 - val_acc: 0.9400\n",
            "Epoch 141/200\n",
            "5/5 [==============================] - 0s 10ms/step - loss: 0.1530 - acc: 0.9600 - val_loss: 0.0855 - val_acc: 0.9800\n",
            "Epoch 142/200\n",
            "5/5 [==============================] - 0s 14ms/step - loss: 0.1568 - acc: 0.9467 - val_loss: 0.0841 - val_acc: 0.9800\n",
            "Epoch 143/200\n",
            "5/5 [==============================] - 0s 10ms/step - loss: 0.1502 - acc: 0.9467 - val_loss: 0.1305 - val_acc: 0.9000\n",
            "Epoch 144/200\n",
            "5/5 [==============================] - 0s 11ms/step - loss: 0.1401 - acc: 0.9600 - val_loss: 0.0548 - val_acc: 0.9800\n",
            "Epoch 145/200\n",
            "5/5 [==============================] - 0s 9ms/step - loss: 0.1486 - acc: 0.9333 - val_loss: 0.0489 - val_acc: 1.0000\n",
            "Epoch 146/200\n",
            "5/5 [==============================] - 0s 11ms/step - loss: 0.1684 - acc: 0.9467 - val_loss: 0.0680 - val_acc: 0.9800\n",
            "Epoch 147/200\n",
            "5/5 [==============================] - 0s 9ms/step - loss: 0.1471 - acc: 0.9200 - val_loss: 0.0489 - val_acc: 1.0000\n",
            "Epoch 148/200\n",
            "5/5 [==============================] - 0s 14ms/step - loss: 0.1602 - acc: 0.9200 - val_loss: 0.0451 - val_acc: 1.0000\n",
            "Epoch 149/200\n",
            "5/5 [==============================] - 0s 9ms/step - loss: 0.0976 - acc: 0.9733 - val_loss: 0.0776 - val_acc: 0.9800\n",
            "Epoch 150/200\n",
            "5/5 [==============================] - 0s 34ms/step - loss: 0.1647 - acc: 0.9400 - val_loss: 0.0491 - val_acc: 0.9800\n",
            "Epoch 151/200\n",
            "5/5 [==============================] - 0s 27ms/step - loss: 0.1976 - acc: 0.9267 - val_loss: 0.0656 - val_acc: 0.9800\n",
            "Epoch 152/200\n",
            "5/5 [==============================] - 0s 28ms/step - loss: 0.1579 - acc: 0.9467 - val_loss: 0.0665 - val_acc: 0.9800\n",
            "Epoch 153/200\n",
            "5/5 [==============================] - 0s 20ms/step - loss: 0.1125 - acc: 0.9600 - val_loss: 0.0533 - val_acc: 1.0000\n",
            "Epoch 154/200\n",
            "5/5 [==============================] - 0s 9ms/step - loss: 0.1741 - acc: 0.9400 - val_loss: 0.0483 - val_acc: 1.0000\n",
            "Epoch 155/200\n",
            "5/5 [==============================] - 0s 9ms/step - loss: 0.1332 - acc: 0.9600 - val_loss: 0.0493 - val_acc: 0.9800\n",
            "Epoch 156/200\n",
            "5/5 [==============================] - 0s 10ms/step - loss: 0.0989 - acc: 0.9733 - val_loss: 0.0420 - val_acc: 1.0000\n",
            "Epoch 157/200\n",
            "5/5 [==============================] - 0s 10ms/step - loss: 0.1563 - acc: 0.9467 - val_loss: 0.0664 - val_acc: 0.9800\n",
            "Epoch 158/200\n",
            "5/5 [==============================] - 0s 10ms/step - loss: 0.1538 - acc: 0.9400 - val_loss: 0.0911 - val_acc: 0.9800\n",
            "Epoch 159/200\n",
            "5/5 [==============================] - 0s 12ms/step - loss: 0.1826 - acc: 0.9333 - val_loss: 0.0829 - val_acc: 0.9800\n",
            "Epoch 160/200\n",
            "5/5 [==============================] - 0s 10ms/step - loss: 0.1325 - acc: 0.9533 - val_loss: 0.0647 - val_acc: 0.9800\n",
            "Epoch 161/200\n",
            "5/5 [==============================] - 0s 9ms/step - loss: 0.1848 - acc: 0.9200 - val_loss: 0.0862 - val_acc: 1.0000\n",
            "Epoch 162/200\n",
            "5/5 [==============================] - 0s 11ms/step - loss: 0.1792 - acc: 0.9133 - val_loss: 0.0578 - val_acc: 0.9800\n",
            "Epoch 163/200\n",
            "5/5 [==============================] - 0s 31ms/step - loss: 0.1631 - acc: 0.9533 - val_loss: 0.0648 - val_acc: 0.9800\n",
            "Epoch 164/200\n",
            "5/5 [==============================] - 0s 40ms/step - loss: 0.1571 - acc: 0.9400 - val_loss: 0.1100 - val_acc: 0.9600\n",
            "Epoch 165/200\n",
            "5/5 [==============================] - 0s 18ms/step - loss: 0.1760 - acc: 0.9267 - val_loss: 0.0920 - val_acc: 0.9800\n",
            "Epoch 166/200\n",
            "5/5 [==============================] - 0s 15ms/step - loss: 0.1920 - acc: 0.9267 - val_loss: 0.1748 - val_acc: 0.9000\n",
            "Epoch 167/200\n",
            "5/5 [==============================] - 0s 11ms/step - loss: 0.1663 - acc: 0.9533 - val_loss: 0.1182 - val_acc: 0.9600\n",
            "Epoch 168/200\n",
            "5/5 [==============================] - 0s 9ms/step - loss: 0.1468 - acc: 0.9467 - val_loss: 0.0474 - val_acc: 1.0000\n",
            "Epoch 169/200\n",
            "5/5 [==============================] - 0s 11ms/step - loss: 0.1076 - acc: 0.9667 - val_loss: 0.0289 - val_acc: 1.0000\n",
            "Epoch 170/200\n",
            "5/5 [==============================] - 0s 9ms/step - loss: 0.1275 - acc: 0.9467 - val_loss: 0.0638 - val_acc: 0.9800\n",
            "Epoch 171/200\n",
            "5/5 [==============================] - 0s 9ms/step - loss: 0.1694 - acc: 0.9267 - val_loss: 0.0819 - val_acc: 0.9800\n",
            "Epoch 172/200\n",
            "5/5 [==============================] - 0s 9ms/step - loss: 0.1524 - acc: 0.9400 - val_loss: 0.0625 - val_acc: 0.9800\n",
            "Epoch 173/200\n",
            "5/5 [==============================] - 0s 10ms/step - loss: 0.1655 - acc: 0.9400 - val_loss: 0.0788 - val_acc: 0.9800\n",
            "Epoch 174/200\n",
            "5/5 [==============================] - 0s 14ms/step - loss: 0.1576 - acc: 0.9400 - val_loss: 0.1280 - val_acc: 0.9600\n",
            "Epoch 175/200\n",
            "5/5 [==============================] - 0s 10ms/step - loss: 0.1704 - acc: 0.9400 - val_loss: 0.0627 - val_acc: 0.9800\n",
            "Epoch 176/200\n",
            "5/5 [==============================] - 0s 9ms/step - loss: 0.1050 - acc: 0.9600 - val_loss: 0.0375 - val_acc: 1.0000\n",
            "Epoch 177/200\n",
            "5/5 [==============================] - 0s 10ms/step - loss: 0.1039 - acc: 0.9800 - val_loss: 0.0574 - val_acc: 0.9800\n",
            "Epoch 178/200\n",
            "5/5 [==============================] - 0s 10ms/step - loss: 0.1125 - acc: 0.9600 - val_loss: 0.1084 - val_acc: 0.9800\n",
            "Epoch 179/200\n",
            "5/5 [==============================] - 0s 10ms/step - loss: 0.1349 - acc: 0.9400 - val_loss: 0.0487 - val_acc: 1.0000\n",
            "Epoch 180/200\n",
            "5/5 [==============================] - 0s 10ms/step - loss: 0.1829 - acc: 0.9667 - val_loss: 0.0286 - val_acc: 1.0000\n",
            "Epoch 181/200\n",
            "5/5 [==============================] - 0s 11ms/step - loss: 0.1715 - acc: 0.9400 - val_loss: 0.1243 - val_acc: 0.9600\n",
            "Epoch 182/200\n",
            "5/5 [==============================] - 0s 9ms/step - loss: 0.1948 - acc: 0.9333 - val_loss: 0.0435 - val_acc: 1.0000\n",
            "Epoch 183/200\n",
            "5/5 [==============================] - 0s 9ms/step - loss: 0.1158 - acc: 0.9733 - val_loss: 0.0597 - val_acc: 0.9800\n",
            "Epoch 184/200\n",
            "5/5 [==============================] - 0s 10ms/step - loss: 0.1688 - acc: 0.9667 - val_loss: 0.1403 - val_acc: 0.9600\n",
            "Epoch 185/200\n",
            "5/5 [==============================] - 0s 9ms/step - loss: 0.1383 - acc: 0.9533 - val_loss: 0.1252 - val_acc: 0.9800\n",
            "Epoch 186/200\n",
            "5/5 [==============================] - 0s 9ms/step - loss: 0.1233 - acc: 0.9467 - val_loss: 0.0355 - val_acc: 1.0000\n",
            "Epoch 187/200\n",
            "5/5 [==============================] - 0s 10ms/step - loss: 0.1691 - acc: 0.9333 - val_loss: 0.0585 - val_acc: 0.9800\n",
            "Epoch 188/200\n",
            "5/5 [==============================] - 0s 9ms/step - loss: 0.1019 - acc: 0.9867 - val_loss: 0.0896 - val_acc: 0.9800\n",
            "Epoch 189/200\n",
            "5/5 [==============================] - 0s 10ms/step - loss: 0.1111 - acc: 0.9733 - val_loss: 0.0463 - val_acc: 1.0000\n",
            "Epoch 190/200\n",
            "5/5 [==============================] - 0s 10ms/step - loss: 0.1233 - acc: 0.9533 - val_loss: 0.0862 - val_acc: 0.9600\n",
            "Epoch 191/200\n",
            "5/5 [==============================] - 0s 10ms/step - loss: 0.0892 - acc: 0.9733 - val_loss: 0.0601 - val_acc: 0.9800\n",
            "Epoch 192/200\n",
            "5/5 [==============================] - 0s 10ms/step - loss: 0.0791 - acc: 0.9867 - val_loss: 0.0448 - val_acc: 1.0000\n",
            "Epoch 193/200\n",
            "5/5 [==============================] - 0s 10ms/step - loss: 0.1124 - acc: 0.9733 - val_loss: 0.0642 - val_acc: 0.9600\n",
            "Epoch 194/200\n",
            "5/5 [==============================] - 0s 11ms/step - loss: 0.1681 - acc: 0.9333 - val_loss: 0.0907 - val_acc: 0.9800\n",
            "Epoch 195/200\n",
            "5/5 [==============================] - 0s 10ms/step - loss: 0.1144 - acc: 0.9733 - val_loss: 0.0985 - val_acc: 0.9800\n",
            "Epoch 196/200\n",
            "5/5 [==============================] - 0s 10ms/step - loss: 0.1126 - acc: 0.9600 - val_loss: 0.0443 - val_acc: 1.0000\n",
            "Epoch 197/200\n",
            "5/5 [==============================] - 0s 11ms/step - loss: 0.1144 - acc: 0.9600 - val_loss: 0.0553 - val_acc: 0.9800\n",
            "Epoch 198/200\n",
            "5/5 [==============================] - 0s 10ms/step - loss: 0.1032 - acc: 0.9733 - val_loss: 0.0586 - val_acc: 0.9800\n",
            "Epoch 199/200\n",
            "5/5 [==============================] - 0s 10ms/step - loss: 0.0715 - acc: 0.9800 - val_loss: 0.0600 - val_acc: 0.9800\n",
            "Epoch 200/200\n",
            "5/5 [==============================] - 0s 12ms/step - loss: 0.1296 - acc: 0.9467 - val_loss: 0.0490 - val_acc: 0.9800\n"
          ]
        }
      ]
    },
    {
      "cell_type": "markdown",
      "source": [
        "vẽ biểu đồ kiểm tra mô hình"
      ],
      "metadata": {
        "id": "N1viqTyxMNg5"
      }
    },
    {
      "cell_type": "code",
      "source": [
        "acc = history.history['acc']\n",
        "val_acc = history.history['val_acc']\n",
        "loss = history.history['loss']\n",
        "val_loss = history.history['val_loss']\n",
        "\n",
        "# Create a list of epoch numbers\n",
        "epochs = range(1, len(acc) + 1)\n",
        "\n",
        "# Plot training and validation loss values over time\n",
        "plt.figure()\n",
        "plt.plot(epochs, loss, color='blue', marker='.', label='Training loss')\n",
        "plt.plot(epochs, val_loss, color='orange', marker='.', label='Validation loss')\n",
        "plt.title('Training and validation loss')\n",
        "plt.legend()\n",
        "\n",
        "# Plot training and validation accuracies over time\n",
        "plt.figure()\n",
        "plt.plot(epochs, acc, color='blue', marker='.', label='Training acc')\n",
        "plt.plot(epochs, val_acc, color='orange', marker='.', label='Validation acc')\n",
        "plt.title('Training and validation accuracy')\n",
        "plt.legend()\n",
        "plt.show()"
      ],
      "metadata": {
        "id": "RlxP42Wy0O-l",
        "colab": {
          "base_uri": "https://localhost:8080/",
          "height": 545
        },
        "outputId": "844148cd-5ce1-4894-a932-da817cc39983"
      },
      "execution_count": null,
      "outputs": [
        {
          "output_type": "display_data",
          "data": {
            "text/plain": [
              "<Figure size 432x288 with 1 Axes>"
            ],
            "image/png": "[encoded data removed]"
          },
          "metadata": {
            "needs_background": "light"
          }
        },
        {
          "output_type": "display_data",
          "data": {
            "text/plain": [
              "<Figure size 432x288 with 1 Axes>"
            ],
            "image/png": "[encoded data removed]"
          },
          "metadata": {
            "needs_background": "light"
          }
        }
      ]
    },
    {
      "cell_type": "code",
      "source": [
        ""
      ],
      "metadata": {
        "id": "lMKLPuwL31_E"
      },
      "execution_count": null,
      "outputs": []
    }
  ]
}